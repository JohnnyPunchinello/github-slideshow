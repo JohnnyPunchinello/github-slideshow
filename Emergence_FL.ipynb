{
  "nbformat": 4,
  "nbformat_minor": 0,
  "metadata": {
    "colab": {
      "provenance": [],
      "authorship_tag": "ABX9TyOH0k+pcCUquVdHTDM2K1hj",
      "include_colab_link": true
    },
    "kernelspec": {
      "name": "python3",
      "display_name": "Python 3"
    },
    "language_info": {
      "name": "python"
    }
  },
  "cells": [
    {
      "cell_type": "markdown",
      "metadata": {
        "id": "view-in-github",
        "colab_type": "text"
      },
      "source": [
        "<a href=\"https://colab.research.google.com/github/JohnnyPunchinello/github-slideshow/blob/master/Emergence_FL.ipynb\" target=\"_parent\"><img src=\"https://colab.research.google.com/assets/colab-badge.svg\" alt=\"Open In Colab\"/></a>"
      ]
    },
    {
      "cell_type": "code",
      "execution_count": null,
      "metadata": {
        "colab": {
          "base_uri": "https://localhost:8080/"
        },
        "id": "UTSBSxi44xIN",
        "outputId": "1c228677-072c-4135-8aab-e66155fbd30e"
      },
      "outputs": [
        {
          "output_type": "stream",
          "name": "stdout",
          "text": [
            "The number of No.1 layer is torch.Size([392])\n",
            "The number of No.2 second layer is torch.Size([196])\n",
            "The number of No.3 second layer is torch.Size([98])\n",
            "The number of No.4 second layer is torch.Size([48])\n",
            "The number of No.5 second layer is torch.Size([24])\n"
          ]
        }
      ],
      "source": [
        "import pickle\n",
        "import torch\n",
        "\n",
        "\n",
        "file_path = \"\"\n",
        "#data = pickle.load(open(\"/home/chenyang/emergence_ml/FL-code/sync_framework/logs/mnist/seed4321/alpha0.0.fedavg.tc2.sc2.u0.pkl\",\"rb\"))\n",
        "#data = pickle.load(open(\"/content/alpha0.0.fedavg.tc2.sc2.u0.pkl\",\"rb\"))\n",
        "data = pickle.load(open(\"/content/data/weights_with_split.pkl\",\"rb\"))\n",
        "\n",
        "\n",
        "\n",
        "num_layer1 = data[0][\"fc1.bias\"].size()\n",
        "num_layer2 = data[0][\"fc2.bias\"].size()\n",
        "num_layer3 = data[0][\"fc3.bias\"].size()\n",
        "num_layer4 = data[0][\"fc4.bias\"].size()\n",
        "num_layer5 = data[0][\"fc5.bias\"].size()\n",
        "\n",
        "print(f\"The number of No.1 layer is {num_layer1}\")\n",
        "print(f\"The number of No.2 second layer is {num_layer2}\")\n",
        "print(f\"The number of No.3 second layer is {num_layer3}\")\n",
        "print(f\"The number of No.4 second layer is {num_layer4}\")\n",
        "print(f\"The number of No.5 second layer is {num_layer5}\")\n",
        "\n"
      ]
    },
    {
      "cell_type": "code",
      "source": [
        "layer_sizes = [392,196,98,48,24]"
      ],
      "metadata": {
        "id": "XWMP2QjJl7vO"
      },
      "execution_count": null,
      "outputs": []
    },
    {
      "cell_type": "code",
      "source": [
        "data[0]"
      ],
      "metadata": {
        "colab": {
          "base_uri": "https://localhost:8080/"
        },
        "id": "C-zTGW5jxNse",
        "outputId": "9aee71ca-263f-41a7-93c7-b869341e4c7f"
      },
      "execution_count": null,
      "outputs": [
        {
          "output_type": "execute_result",
          "data": {
            "text/plain": [
              "{'fc1.weight': tensor([[-0.0267,  0.0027,  0.0112,  ...,  0.0036,  0.0333, -0.0115],\n",
              "         [ 0.0022, -0.0041,  0.0227,  ...,  0.0239, -0.0038, -0.0004],\n",
              "         [-0.0204,  0.0325, -0.0149,  ..., -0.0150, -0.0334, -0.0031],\n",
              "         ...,\n",
              "         [ 0.0207, -0.0023, -0.0181,  ..., -0.0209,  0.0262, -0.0260],\n",
              "         [-0.0083,  0.0074, -0.0156,  ..., -0.0334, -0.0245, -0.0186],\n",
              "         [-0.0206, -0.0158,  0.0142,  ..., -0.0360, -0.0019, -0.0012]]),\n",
              " 'fc1.bias': tensor([ 2.5438e-02,  2.7716e-02, -3.1279e-02, -2.5890e-02, -2.1130e-02,\n",
              "         -2.6141e-02, -3.1506e-02, -2.2159e-02, -1.0745e-02,  8.0300e-04,\n",
              "         -1.9182e-02,  3.8914e-03,  6.8692e-03, -2.4660e-02,  3.4719e-02,\n",
              "         -1.4925e-03, -1.8024e-02,  1.4438e-03, -3.1144e-02, -2.4586e-02,\n",
              "         -7.7456e-03, -1.9260e-02,  3.5882e-02, -2.5519e-02,  3.9102e-03,\n",
              "          3.5258e-02,  1.9661e-02,  2.4889e-02, -2.6478e-02,  8.6315e-03,\n",
              "          1.7274e-02, -5.1602e-04,  3.9062e-03, -6.8528e-04, -1.7649e-02,\n",
              "         -4.2026e-03, -2.5404e-02, -4.4292e-04, -2.8909e-02, -5.2161e-04,\n",
              "          1.1155e-02, -9.5309e-03, -1.8439e-02,  1.8704e-02,  2.9093e-02,\n",
              "          3.4043e-02,  3.0955e-02,  5.4413e-03, -1.3145e-02, -8.7750e-03,\n",
              "         -3.3717e-02,  3.3188e-02, -1.7207e-02,  3.0293e-03,  3.3446e-02,\n",
              "          2.8856e-03, -2.5377e-02, -4.9649e-03, -1.8479e-02, -2.8856e-02,\n",
              "          2.5167e-02, -8.5048e-03,  1.6674e-04, -8.9629e-03,  7.0678e-03,\n",
              "          3.5370e-02, -3.0189e-02,  2.7483e-02, -1.7092e-02, -9.7408e-03,\n",
              "         -2.1197e-02, -1.6024e-02, -2.4145e-03, -4.7936e-03, -1.1632e-02,\n",
              "          1.2842e-02,  1.1390e-02, -2.4873e-02, -2.6545e-02, -2.0155e-03,\n",
              "          3.0574e-02, -3.0299e-02,  3.2436e-02, -1.6459e-02, -2.0388e-02,\n",
              "         -1.4468e-02, -2.7619e-02,  7.1092e-03,  2.2136e-02,  2.4132e-02,\n",
              "         -2.4300e-02,  3.1061e-02,  2.2278e-02, -9.9141e-03, -2.8259e-02,\n",
              "         -1.7255e-02, -2.3850e-05,  1.4632e-03,  2.9217e-02,  3.1197e-03,\n",
              "         -3.0182e-02, -1.0568e-02, -2.8604e-02,  2.7130e-02,  1.0347e-02,\n",
              "         -6.6207e-03,  3.6884e-02,  1.0206e-02, -6.9481e-03, -2.7355e-02,\n",
              "          3.4835e-02, -8.3985e-03, -6.9172e-03, -1.7452e-02, -2.0102e-02,\n",
              "         -8.1404e-03,  5.7178e-03,  2.0282e-02,  7.8269e-03, -1.9323e-02,\n",
              "          1.7196e-02,  2.5758e-02, -1.9193e-02, -2.9633e-02,  3.4268e-02,\n",
              "          1.2865e-03,  2.3770e-02,  9.6778e-03,  1.0541e-02,  3.8744e-02,\n",
              "          4.5726e-02, -1.3029e-02,  2.1715e-02,  3.1612e-02, -3.6988e-02,\n",
              "         -2.8965e-02,  2.1302e-02, -3.3819e-02, -1.8062e-02, -2.8290e-03,\n",
              "          8.0220e-03,  2.1211e-02,  8.9032e-03,  2.2435e-02, -1.9262e-02,\n",
              "         -1.9820e-02,  1.7965e-02,  1.2524e-02, -2.7836e-02, -2.4853e-02,\n",
              "          3.1456e-02,  2.3986e-02,  1.3087e-02, -1.9193e-02,  1.2930e-03,\n",
              "         -3.2998e-02,  1.9773e-02,  2.6872e-03, -2.2511e-02,  8.6961e-03,\n",
              "         -1.5925e-02, -2.5431e-02,  3.6799e-02, -2.7544e-02,  1.2674e-02,\n",
              "          1.4064e-02,  1.2725e-03,  6.8151e-03,  1.5131e-03,  1.7433e-02,\n",
              "          2.8487e-02, -2.5138e-02,  1.0428e-02,  7.7305e-04,  1.7590e-02,\n",
              "          2.2100e-02, -1.7504e-02,  3.3987e-02,  1.7706e-02,  3.7976e-03,\n",
              "         -1.3175e-02,  1.6345e-02,  3.1804e-02, -2.5228e-02, -1.1742e-02,\n",
              "         -3.0864e-02, -4.4776e-03,  1.3091e-02,  2.9216e-02, -2.0167e-02,\n",
              "          2.5021e-02, -6.8368e-03,  6.6456e-03, -1.5608e-02, -2.8326e-02,\n",
              "         -2.0279e-02,  2.4912e-02,  9.9726e-03, -2.9632e-02,  2.8326e-02,\n",
              "          6.4855e-03,  8.9147e-03, -3.3882e-02, -1.2407e-02, -3.1271e-02,\n",
              "          1.9334e-02,  2.6501e-03, -3.0555e-02, -1.9565e-02,  1.5505e-02,\n",
              "         -2.3097e-02,  1.5532e-02, -1.7863e-02, -1.9936e-02,  1.3924e-02,\n",
              "         -2.4854e-02,  3.5380e-02, -1.4478e-02,  7.6612e-04,  1.2827e-02,\n",
              "          1.6317e-02, -9.8411e-03, -2.8555e-02,  3.4992e-02,  2.8186e-02,\n",
              "         -2.7909e-03,  2.3305e-02, -1.4051e-02, -3.2847e-02,  2.6850e-02,\n",
              "          1.1558e-02,  2.1848e-02, -9.7669e-03,  1.4736e-02, -2.0985e-02,\n",
              "          7.0761e-03,  2.4907e-02,  8.1673e-03,  1.9732e-03,  1.7188e-02,\n",
              "         -4.6955e-03,  2.2292e-02, -3.2386e-02,  1.4892e-02, -8.0472e-03,\n",
              "         -8.4553e-03,  3.3135e-02,  1.5706e-02,  3.1684e-02, -1.5048e-02,\n",
              "         -5.0806e-04, -3.4290e-02,  3.9337e-02,  1.9406e-02,  2.1248e-03,\n",
              "         -3.3604e-02,  3.3616e-02,  2.8260e-02,  6.6136e-03, -3.3508e-02,\n",
              "          3.0370e-02, -9.9021e-04,  1.2408e-02,  2.6756e-02, -2.3349e-02,\n",
              "          2.5417e-03, -3.3561e-02,  3.1998e-02, -2.9479e-02,  3.3010e-02,\n",
              "          7.7366e-03,  2.2654e-02, -3.2032e-02,  2.0944e-03, -1.4163e-02,\n",
              "          7.6337e-03, -2.6451e-02, -2.0637e-02, -2.1546e-02,  7.4772e-04,\n",
              "         -8.0178e-03, -2.6066e-03,  3.0744e-02, -1.8191e-03, -1.9293e-02,\n",
              "          2.5453e-02,  2.6420e-02, -1.2582e-02, -1.0935e-02, -3.2024e-02,\n",
              "          2.2646e-02,  1.2253e-02,  1.3143e-02, -8.2570e-03, -1.0155e-02,\n",
              "          2.6435e-02, -2.6049e-02, -9.7699e-03,  2.2825e-02,  3.4181e-02,\n",
              "         -1.4123e-02,  3.5613e-02,  7.6887e-03, -2.8696e-02,  3.3255e-02,\n",
              "          6.6770e-03, -3.3087e-02, -2.2213e-02,  3.4674e-03,  3.3104e-02,\n",
              "         -1.7219e-02,  2.5695e-02, -1.2379e-02, -2.1047e-02,  2.5289e-02,\n",
              "         -3.0056e-02,  4.2772e-03,  3.5972e-03,  2.4497e-02, -2.5419e-02,\n",
              "         -1.7938e-02,  1.3006e-02,  2.0169e-02, -7.2732e-03,  3.3339e-02,\n",
              "          5.6896e-03,  2.3936e-02,  3.1152e-02,  1.7614e-03,  2.9964e-02,\n",
              "          2.2821e-02,  3.1843e-02,  2.4670e-02, -2.9046e-02, -3.4150e-02,\n",
              "         -1.4035e-03, -2.0373e-02,  3.9982e-02,  2.3627e-02,  8.9126e-03,\n",
              "          1.2860e-02, -2.3470e-02, -1.7047e-02, -2.8222e-02,  3.1629e-02,\n",
              "          2.2110e-02, -1.7593e-02, -2.5418e-02, -2.7260e-02, -2.0302e-02,\n",
              "          3.6460e-02,  4.3028e-03,  1.8138e-02,  5.6116e-04, -6.9848e-03,\n",
              "         -1.1059e-03, -9.7854e-03,  1.5961e-02, -1.3455e-02,  2.4905e-02,\n",
              "         -5.5676e-03,  1.0671e-02,  3.2266e-02, -1.8549e-02, -1.1006e-03,\n",
              "          2.5645e-02,  2.1796e-02,  1.3494e-02,  1.6062e-02,  3.7731e-02,\n",
              "         -1.5789e-02, -3.2821e-02, -2.5599e-02,  5.3067e-03, -1.0830e-02,\n",
              "          2.5612e-03, -5.4694e-03,  1.0521e-02,  2.9546e-02, -6.0766e-03,\n",
              "          1.4240e-02, -3.8498e-02, -3.8507e-03, -2.9159e-02,  7.4438e-03,\n",
              "         -1.6154e-02,  2.9246e-02, -9.1148e-03,  3.2931e-02,  9.3543e-03,\n",
              "         -2.1099e-02, -1.8058e-02]),\n",
              " 'fc2.weight': tensor([[-3.9851e-02, -2.4694e-02,  1.9352e-03,  ...,  1.9374e-02,\n",
              "           7.3802e-03, -4.9410e-02],\n",
              "         [ 3.7521e-02,  5.0559e-02,  1.0767e-02,  ..., -1.4018e-02,\n",
              "          -1.5745e-02, -3.4457e-02],\n",
              "         [-4.7377e-02, -3.4774e-03, -9.1471e-03,  ..., -3.0126e-02,\n",
              "          -3.4859e-02, -4.6793e-04],\n",
              "         ...,\n",
              "         [-1.4564e-02, -3.0357e-02,  7.8639e-04,  ..., -4.1159e-02,\n",
              "          -3.7202e-02,  2.6325e-02],\n",
              "         [ 4.2163e-02,  1.5113e-02,  1.4533e-02,  ..., -3.6857e-05,\n",
              "          -4.2080e-02, -3.3006e-02],\n",
              "         [-4.3584e-02, -6.0188e-03,  1.1006e-02,  ...,  7.2348e-03,\n",
              "           4.0322e-02, -2.8204e-02]]),\n",
              " 'fc2.bias': tensor([-0.0292,  0.0238,  0.0093,  0.0075,  0.0486,  0.0252, -0.0064,  0.0464,\n",
              "          0.0469, -0.0430, -0.0099,  0.0447, -0.0294, -0.0059,  0.0373, -0.0406,\n",
              "          0.0374,  0.0379,  0.0451,  0.0342,  0.0481, -0.0383,  0.0368, -0.0024,\n",
              "         -0.0279, -0.0232, -0.0504,  0.0187, -0.0087,  0.0241, -0.0139, -0.0180,\n",
              "         -0.0147, -0.0082, -0.0054,  0.0297,  0.0408,  0.0452,  0.0183, -0.0389,\n",
              "         -0.0361,  0.0483, -0.0248,  0.0272,  0.0465,  0.0361,  0.0506,  0.0332,\n",
              "          0.0060,  0.0320,  0.0527,  0.0596, -0.0203,  0.0046,  0.0477, -0.0160,\n",
              "          0.0052, -0.0412,  0.0211, -0.0165, -0.0165,  0.0672,  0.0346, -0.0273,\n",
              "          0.0259, -0.0104,  0.0335,  0.0243,  0.0405, -0.0309,  0.0438, -0.0236,\n",
              "         -0.0004,  0.0056,  0.0114,  0.0331, -0.0160,  0.0252, -0.0205,  0.0478,\n",
              "         -0.0455, -0.0107, -0.0356,  0.0354, -0.0259, -0.0149,  0.0397,  0.0104,\n",
              "          0.0004,  0.0185,  0.0148, -0.0239, -0.0438,  0.0234,  0.0224, -0.0165,\n",
              "         -0.0344,  0.0313,  0.0312,  0.0180,  0.0601,  0.0479,  0.0522,  0.0393,\n",
              "          0.0374, -0.0108,  0.0234, -0.0402,  0.0309,  0.0132, -0.0247,  0.0063,\n",
              "          0.0328, -0.0123,  0.0016,  0.0014, -0.0468, -0.0216, -0.0100, -0.0285,\n",
              "          0.0426,  0.0386,  0.0588,  0.0139, -0.0197,  0.0058, -0.0124, -0.0158,\n",
              "         -0.0229,  0.0193, -0.0213, -0.0394,  0.0138, -0.0294,  0.0061,  0.0331,\n",
              "         -0.0405, -0.0038,  0.0205,  0.0564, -0.0503,  0.0156,  0.0084,  0.0409,\n",
              "          0.0003, -0.0057,  0.0234,  0.0325, -0.0250,  0.0455, -0.0333, -0.0125,\n",
              "          0.0114,  0.0063, -0.0400,  0.0351,  0.0164,  0.0210, -0.0264,  0.0481,\n",
              "         -0.0067,  0.0485, -0.0379, -0.0092,  0.0278,  0.0197, -0.0138, -0.0240,\n",
              "         -0.0074,  0.0419,  0.0537, -0.0063,  0.0105, -0.0073, -0.0405,  0.0388,\n",
              "          0.0168,  0.0168, -0.0393,  0.0066,  0.0355, -0.0149, -0.0243,  0.0348,\n",
              "          0.0223,  0.0274, -0.0508,  0.0030, -0.0254,  0.0249, -0.0147,  0.0046,\n",
              "          0.0202,  0.0058, -0.0273,  0.0519]),\n",
              " 'fc3.weight': tensor([[-0.0603, -0.0408, -0.0613,  ..., -0.0032, -0.0124,  0.0022],\n",
              "         [-0.0038,  0.0057, -0.0162,  ..., -0.0691,  0.0080,  0.0575],\n",
              "         [ 0.0409,  0.0136, -0.0578,  ..., -0.0011, -0.0107, -0.0575],\n",
              "         ...,\n",
              "         [-0.0558, -0.0220,  0.0161,  ...,  0.0533,  0.0613, -0.0036],\n",
              "         [ 0.0684,  0.0200,  0.0573,  ...,  0.0179, -0.0034, -0.0482],\n",
              "         [ 0.0190, -0.0078, -0.0179,  ..., -0.0317, -0.0475, -0.0587]]),\n",
              " 'fc3.bias': tensor([ 0.0143, -0.0525,  0.0796,  0.0669, -0.0576,  0.0603,  0.0267,  0.0658,\n",
              "          0.0447,  0.0685, -0.0417,  0.0525, -0.0365,  0.0252, -0.0130,  0.0409,\n",
              "          0.0571,  0.0311,  0.0338,  0.0394, -0.0337, -0.0478, -0.0169, -0.0187,\n",
              "          0.0643,  0.0347, -0.0343,  0.0315,  0.0713,  0.0711, -0.0600,  0.0400,\n",
              "         -0.0346,  0.0498, -0.0700,  0.0371,  0.1135, -0.0300,  0.0764,  0.0334,\n",
              "          0.0376, -0.0217, -0.0122,  0.0394,  0.0331,  0.0496, -0.0402, -0.0520,\n",
              "         -0.0123,  0.0787, -0.0140,  0.0224, -0.0317,  0.0281, -0.0297, -0.0451,\n",
              "         -0.0355,  0.0678, -0.0255,  0.0178, -0.0190, -0.0361, -0.0263,  0.0506,\n",
              "          0.0596, -0.0019, -0.0568,  0.0317, -0.0523, -0.0512,  0.0924,  0.0097,\n",
              "         -0.0564,  0.0232,  0.0043,  0.0402,  0.0266,  0.0361, -0.0358, -0.0214,\n",
              "         -0.0267,  0.0017,  0.0942, -0.0161, -0.0117,  0.0064, -0.0328, -0.0378,\n",
              "          0.0050,  0.0669, -0.0628, -0.0706,  0.0139,  0.0854,  0.0697,  0.0151,\n",
              "          0.0046, -0.0025]),\n",
              " 'fc4.weight': tensor([[-0.0604, -0.0345,  0.0407,  ..., -0.0345, -0.0322, -0.1001],\n",
              "         [-0.0822,  0.0187,  0.0051,  ..., -0.0696, -0.0287, -0.0590],\n",
              "         [ 0.1088, -0.0173,  0.0617,  ...,  0.1282,  0.1178,  0.0626],\n",
              "         ...,\n",
              "         [-0.0492,  0.0315,  0.0489,  ...,  0.0513, -0.0260,  0.0323],\n",
              "         [ 0.0552,  0.0489,  0.0630,  ..., -0.0141, -0.0022,  0.0550],\n",
              "         [ 0.0318, -0.0679, -0.0121,  ..., -0.0223,  0.0116, -0.0238]]),\n",
              " 'fc4.bias': tensor([-0.0866, -0.0737,  0.0647,  0.0138,  0.0150,  0.0722, -0.0846, -0.0498,\n",
              "          0.1671,  0.1648,  0.0302, -0.0982,  0.0020,  0.0685,  0.0164, -0.0735,\n",
              "          0.0118, -0.0399,  0.0923,  0.0473, -0.0873,  0.0517, -0.0664, -0.0771,\n",
              "         -0.0169,  0.1648,  0.1383,  0.0955, -0.0023,  0.0278,  0.0791,  0.1003,\n",
              "          0.0097, -0.0448, -0.0742, -0.0188, -0.0982, -0.0281, -0.1107,  0.1124,\n",
              "          0.0213, -0.0439,  0.0281,  0.0112,  0.0288, -0.0054, -0.0588,  0.0178]),\n",
              " 'fc5.weight': tensor([[ 0.1410, -0.0633,  0.0803,  ..., -0.0470, -0.0409,  0.0172],\n",
              "         [ 0.1267, -0.0737, -0.0266,  ..., -0.0967, -0.0779,  0.1413],\n",
              "         [-0.1100, -0.1179,  0.1871,  ...,  0.0160,  0.0602,  0.0011],\n",
              "         ...,\n",
              "         [ 0.0496, -0.0712, -0.0112,  ...,  0.1261,  0.0753, -0.0344],\n",
              "         [-0.0050,  0.0513, -0.0849,  ...,  0.1036, -0.0326,  0.1805],\n",
              "         [ 0.0239, -0.0409,  0.0141,  ..., -0.0494,  0.2253, -0.1138]]),\n",
              " 'fc5.bias': tensor([-0.0495,  0.2540,  0.1852,  0.4238, -0.0174,  0.0327, -0.1076,  0.2728,\n",
              "          0.2495,  0.0108,  0.2021,  0.0251, -0.1097,  0.0987, -0.0717, -0.0529,\n",
              "          0.1597, -0.0391, -0.1068, -0.1422,  0.4293, -0.1180, -0.0669, -0.1398]),\n",
              " 'classifier.weight': tensor([[ 0.1235,  0.3922, -0.1353,  0.5464, -0.1003, -0.1356, -0.1124,  0.2078,\n",
              "           0.0511,  0.0813, -0.1225,  0.3711, -0.3604,  0.1197,  0.1322, -0.1326,\n",
              "          -0.0297, -0.1276, -0.0192, -0.1695,  0.5619, -0.1577,  0.2495, -0.3396],\n",
              "         [ 0.0452, -0.2290,  0.3215, -0.1457, -0.0750,  0.0063, -0.1490, -0.2477,\n",
              "           0.2630,  0.0986,  0.4505, -0.0470,  0.0790,  0.3627,  0.1582, -0.0439,\n",
              "          -0.0057,  0.1782, -0.0517,  0.2431, -0.0933, -0.0841, -0.1504,  0.3048],\n",
              "         [-0.3048, -0.2321,  0.0902,  0.0621,  0.1502, -0.2987,  0.0882,  0.1127,\n",
              "           0.3131,  0.0594, -0.1980, -0.0181,  0.2943, -0.1014, -0.1310, -0.2405,\n",
              "           0.2963, -0.1962,  0.1473, -0.0604,  0.5517,  0.1288, -0.2760,  0.3540],\n",
              "         [-0.0227,  0.5000,  0.3150,  0.0334,  0.1930, -0.1722, -0.1182, -0.0085,\n",
              "           0.3513, -0.2216,  0.2277, -0.2610,  0.0649,  0.1446, -0.1217, -0.1307,\n",
              "          -0.4943, -0.0355, -0.0368, -0.1495,  0.1941,  0.0078,  0.1005, -0.1637],\n",
              "         [ 0.1748, -0.3774, -0.0368,  0.2798, -0.0524,  0.4133,  0.1759,  0.3671,\n",
              "          -0.1297, -0.2012,  0.3604, -0.1501,  0.3330,  0.1284, -0.0418,  0.2980,\n",
              "           0.6008, -0.0774, -0.0402,  0.2260, -0.0165, -0.1687, -0.0068, -0.0669],\n",
              "         [ 0.0513, -0.2337, -0.2020, -0.1831,  0.1892,  0.0507,  0.0529, -0.2035,\n",
              "          -0.2355, -0.1594, -0.2920,  0.1890,  0.0649, -0.0929,  0.1716, -0.0870,\n",
              "           0.0932, -0.1686, -0.0028, -0.0591,  0.0518, -0.1844, -0.1729,  0.1899],\n",
              "         [ 0.0781, -0.2272, -0.3127,  0.1419,  0.1323, -0.1479, -0.0815,  0.0038,\n",
              "          -0.2176, -0.0372, -0.3038,  0.1293, -0.0463,  0.0342,  0.1209,  0.1282,\n",
              "           0.1417, -0.0715,  0.1431,  0.1413,  0.0153,  0.1393, -0.0567,  0.1327],\n",
              "         [-0.0194, -0.0098, -0.2748,  0.0863, -0.1020,  0.1591, -0.1435, -0.2134,\n",
              "          -0.2574, -0.0963, -0.1655,  0.1266,  0.0035,  0.1452,  0.0346,  0.1676,\n",
              "          -0.2224, -0.0852, -0.1484, -0.0300, -0.1741, -0.0515, -0.1958,  0.0835],\n",
              "         [-0.0080,  0.1209, -0.1287, -0.1898, -0.1342,  0.0746,  0.0667,  0.0976,\n",
              "          -0.3363, -0.1198, -0.0594, -0.0926,  0.0867,  0.1270,  0.0020,  0.0533,\n",
              "          -0.0813,  0.1040, -0.0081, -0.0098, -0.1238,  0.0368, -0.1680,  0.1650],\n",
              "         [ 0.0892,  0.0991, -0.1531,  0.1351,  0.2033, -0.0762, -0.0398, -0.0777,\n",
              "           0.0421,  0.1790, -0.1948,  0.0864, -0.1587, -0.1483,  0.1764, -0.0034,\n",
              "           0.0519,  0.0586, -0.0063, -0.1715, -0.3283,  0.0028,  0.1953, -0.1099]]),\n",
              " 'classifier.bias': tensor([ 0.6539, -0.0897,  0.1646,  0.4279,  0.1035, -0.1493, -0.4139, -0.1957,\n",
              "         -0.3709, -0.3602])}"
            ]
          },
          "metadata": {},
          "execution_count": 78
        }
      ]
    },
    {
      "cell_type": "code",
      "source": [
        "data[0][\"fc1.weight\"]"
      ],
      "metadata": {
        "colab": {
          "base_uri": "https://localhost:8080/",
          "height": 179
        },
        "id": "l3n-_fQi6PWY",
        "outputId": "edc92b2f-03db-4cbf-e5cf-b25183294470"
      },
      "execution_count": null,
      "outputs": [
        {
          "output_type": "error",
          "ename": "IndexError",
          "evalue": "ignored",
          "traceback": [
            "\u001b[0;31m---------------------------------------------------------------------------\u001b[0m",
            "\u001b[0;31mIndexError\u001b[0m                                Traceback (most recent call last)",
            "\u001b[0;32m<ipython-input-58-055578eda7db>\u001b[0m in \u001b[0;36m<cell line: 1>\u001b[0;34m()\u001b[0m\n\u001b[0;32m----> 1\u001b[0;31m \u001b[0mdata\u001b[0m\u001b[0;34m[\u001b[0m\u001b[0;36m0\u001b[0m\u001b[0;34m]\u001b[0m\u001b[0;34m[\u001b[0m\u001b[0;34m\"fc1.weight\"\u001b[0m\u001b[0;34m]\u001b[0m\u001b[0;34m\u001b[0m\u001b[0;34m\u001b[0m\u001b[0m\n\u001b[0m",
            "\u001b[0;31mIndexError\u001b[0m: too many indices for tensor of dimension 3"
          ]
        }
      ]
    },
    {
      "cell_type": "code",
      "source": [
        "torch.mean(data[0][\"fc2.weight\"] - data['global'][\"fc2.weight\"])"
      ],
      "metadata": {
        "colab": {
          "base_uri": "https://localhost:8080/"
        },
        "id": "oDdufe_txC-X",
        "outputId": "dd88dd5a-e671-47f2-bc79-793a1b6c7c3a"
      },
      "execution_count": null,
      "outputs": [
        {
          "output_type": "execute_result",
          "data": {
            "text/plain": [
              "tensor(9.0959e-05)"
            ]
          },
          "metadata": {},
          "execution_count": 4
        }
      ]
    },
    {
      "cell_type": "code",
      "source": [
        "pip install torch torchvision\n"
      ],
      "metadata": {
        "colab": {
          "base_uri": "https://localhost:8080/"
        },
        "id": "4nn0wB9g7xdU",
        "outputId": "95541017-22ec-48a9-fa7c-6a7b192c930e"
      },
      "execution_count": null,
      "outputs": [
        {
          "output_type": "stream",
          "name": "stdout",
          "text": [
            "Requirement already satisfied: torch in /usr/local/lib/python3.10/dist-packages (2.1.0+cu118)\n",
            "Requirement already satisfied: torchvision in /usr/local/lib/python3.10/dist-packages (0.16.0+cu118)\n",
            "Requirement already satisfied: filelock in /usr/local/lib/python3.10/dist-packages (from torch) (3.13.1)\n",
            "Requirement already satisfied: typing-extensions in /usr/local/lib/python3.10/dist-packages (from torch) (4.5.0)\n",
            "Requirement already satisfied: sympy in /usr/local/lib/python3.10/dist-packages (from torch) (1.12)\n",
            "Requirement already satisfied: networkx in /usr/local/lib/python3.10/dist-packages (from torch) (3.2.1)\n",
            "Requirement already satisfied: jinja2 in /usr/local/lib/python3.10/dist-packages (from torch) (3.1.2)\n",
            "Requirement already satisfied: fsspec in /usr/local/lib/python3.10/dist-packages (from torch) (2023.6.0)\n",
            "Requirement already satisfied: triton==2.1.0 in /usr/local/lib/python3.10/dist-packages (from torch) (2.1.0)\n",
            "Requirement already satisfied: numpy in /usr/local/lib/python3.10/dist-packages (from torchvision) (1.23.5)\n",
            "Requirement already satisfied: requests in /usr/local/lib/python3.10/dist-packages (from torchvision) (2.31.0)\n",
            "Requirement already satisfied: pillow!=8.3.*,>=5.3.0 in /usr/local/lib/python3.10/dist-packages (from torchvision) (9.4.0)\n",
            "Requirement already satisfied: MarkupSafe>=2.0 in /usr/local/lib/python3.10/dist-packages (from jinja2->torch) (2.1.3)\n",
            "Requirement already satisfied: charset-normalizer<4,>=2 in /usr/local/lib/python3.10/dist-packages (from requests->torchvision) (3.3.2)\n",
            "Requirement already satisfied: idna<4,>=2.5 in /usr/local/lib/python3.10/dist-packages (from requests->torchvision) (3.6)\n",
            "Requirement already satisfied: urllib3<3,>=1.21.1 in /usr/local/lib/python3.10/dist-packages (from requests->torchvision) (2.0.7)\n",
            "Requirement already satisfied: certifi>=2017.4.17 in /usr/local/lib/python3.10/dist-packages (from requests->torchvision) (2023.11.17)\n",
            "Requirement already satisfied: mpmath>=0.19 in /usr/local/lib/python3.10/dist-packages (from sympy->torch) (1.3.0)\n"
          ]
        }
      ]
    },
    {
      "cell_type": "code",
      "source": [
        "import numpy as np\n",
        "import networkx as nx\n",
        "import matplotlib.pyplot as plt\n",
        "import random"
      ],
      "metadata": {
        "id": "vLRHOnAyEqKI"
      },
      "execution_count": null,
      "outputs": []
    },
    {
      "cell_type": "code",
      "source": [
        "import torch\n",
        "import torchvision\n",
        "from torchvision import transforms\n",
        "from torch.utils.data import DataLoader\n",
        "\n",
        "# Define your weights and biases here\n",
        "# Example (replace these with your actual tensors):\n",
        "#your_weights_1 = torch.randn(784, 250)\n",
        "your_weights_1 = torch.randn(392,784)\n",
        "your_weights_1 = data[0][\"fc1.weight\"]\n",
        "your_biases_1 = torch.randn(392)\n",
        "your_biases_1 = data[0][\"fc1.bias\"]\n",
        "\n",
        "#your_weights_2 = torch.randn(250, 197)\n",
        "your_weights_2 = torch.randn(196,392)\n",
        "your_weights_2 = data[0][\"fc2.weight\"]\n",
        "your_biases_2 = torch.randn(196)\n",
        "your_biases_2 = data[0][\"fc2.bias\"]\n",
        "\n",
        "\n",
        "your_weights_3 = torch.randn(98,196)\n",
        "your_weights_3 = data[0][\"fc2.weight\"]\n",
        "your_biases_3 = torch.randn(98)\n",
        "your_biases_3 = data[0][\"fc2.bias\"]\n",
        "\n",
        "your_weights_4 = torch.randn(48,98)\n",
        "your_weights_4 = data[0][\"fc2.weight\"]\n",
        "your_biases_4 = torch.randn(48)\n",
        "your_biases_4 = data[0][\"fc2.bias\"]\n",
        "\n",
        "your_weights_5 = torch.randn(24,48)\n",
        "your_weights_5 = data[0][\"fc2.weight\"]\n",
        "your_biases_5 = torch.randn(24)\n",
        "your_biases_5 = data[0][\"fc2.bias\"]\n",
        "\n",
        "\n",
        "\n",
        "#your_weights_3 = torch.randn(197, 10)\n",
        "your_weights_6 = torch.randn(10,24)\n",
        "your_weights_6 = data[0][\"classifier.weight\"]\n",
        "your_biases_6 = torch.randn(10)\n",
        "your_biases_6 = data[0][\"classifier.bias\"]\n",
        "\n",
        "# Define a transform to normalize the data\n",
        "transform = transforms.Compose([transforms.ToTensor(),\n",
        "                                transforms.Normalize((0.5,), (0.5,))])\n",
        "\n",
        "# Download and load the MNIST training data\n",
        "trainset = torchvision.datasets.MNIST(root='./data', train=True, download=True, transform=transform)\n",
        "trainloader = DataLoader(trainset, batch_size=1, shuffle=True)\n",
        "\n",
        "# Define the MLP model\n",
        "class MLP(torch.nn.Module):\n",
        "    def __init__(self):\n",
        "        super(MLP, self).__init__()\n",
        "        self.layer1 = torch.nn.Linear(784, 392)\n",
        "        self.layer2 = torch.nn.Linear(392, 196)\n",
        "        self.layer3 = torch.nn.Linear(196, 98)\n",
        "        self.layer4 = torch.nn.Linear(98, 48)\n",
        "        self.layer5 = torch.nn.Linear(48, 24)\n",
        "        self.output_layer = torch.nn.Linear(24, 10)\n",
        "\n",
        "    def forward(self, x):\n",
        "        x = x.view(-1, 784)  # Flatten the image\n",
        "        a1 = torch.relu(self.layer1(x))\n",
        "        a2 = torch.relu(self.layer2(a1))\n",
        "        a3 = torch.relu(self.layer3(a2))\n",
        "        a4 = torch.relu(self.layer4(a3))\n",
        "        a5 = torch.relu(self.layer5(a4))\n",
        "        output = torch.softmax(self.output_layer(a5), dim=1)\n",
        "        return a1, a2, a3, a4, a5, output\n",
        "\n",
        "# Initialize the model\n",
        "model = MLP()\n",
        "\n",
        "# Set the weights and biases\n",
        "model.layer1.weight = torch.nn.Parameter(your_weights_1)\n",
        "model.layer1.bias = torch.nn.Parameter(your_biases_1)\n",
        "\n",
        "model.layer2.weight = torch.nn.Parameter(your_weights_2)\n",
        "model.layer2.bias = torch.nn.Parameter(your_biases_2)\n",
        "\n",
        "model.layer3.weight = torch.nn.Parameter(your_weights_3)\n",
        "model.layer3.bias = torch.nn.Parameter(your_biases_3)\n",
        "\n",
        "model.layer4.weight = torch.nn.Parameter(your_weights_4)\n",
        "model.layer4.bias = torch.nn.Parameter(your_biases_4)\n",
        "\n",
        "model.layer5.weight = torch.nn.Parameter(your_weights_5)\n",
        "model.layer5.bias = torch.nn.Parameter(your_biases_5)\n",
        "\n",
        "model.output_layer.weight = torch.nn.Parameter(your_weights_6)\n",
        "model.output_layer.bias = torch.nn.Parameter(your_biases_6)\n",
        "\n",
        "# Fetch one batch of data\n",
        "dataiter = iter(trainloader)\n",
        "images, labels = next(dataiter)\n",
        "\n",
        "# Forward pass through the model\n",
        "hidden1_output, hidden2_output, hidden3_output,hidden4_output,hidden5_output,final_output = model(images)\n",
        "\n",
        "#print(\"Output of the first hidden layer: \", hidden1_output)\n",
        "#print(\"Output of the second hidden layer: \", hidden2_output)\n",
        "#print(\"Final output of the network: \", final_output)\n"
      ],
      "metadata": {
        "id": "9UKEbAEjCBcu",
        "colab": {
          "base_uri": "https://localhost:8080/",
          "height": 399
        },
        "outputId": "0c48944f-96cf-420b-fe38-c5c75450da3d"
      },
      "execution_count": null,
      "outputs": [
        {
          "output_type": "error",
          "ename": "RuntimeError",
          "evalue": "ignored",
          "traceback": [
            "\u001b[0;31m---------------------------------------------------------------------------\u001b[0m",
            "\u001b[0;31mRuntimeError\u001b[0m                              Traceback (most recent call last)",
            "\u001b[0;32m<ipython-input-36-372b7ca0bc15>\u001b[0m in \u001b[0;36m<cell line: 100>\u001b[0;34m()\u001b[0m\n\u001b[1;32m     98\u001b[0m \u001b[0;34m\u001b[0m\u001b[0m\n\u001b[1;32m     99\u001b[0m \u001b[0;31m# Forward pass through the model\u001b[0m\u001b[0;34m\u001b[0m\u001b[0;34m\u001b[0m\u001b[0m\n\u001b[0;32m--> 100\u001b[0;31m \u001b[0mhidden1_output\u001b[0m\u001b[0;34m,\u001b[0m \u001b[0mhidden2_output\u001b[0m\u001b[0;34m,\u001b[0m \u001b[0mhidden3_output\u001b[0m\u001b[0;34m,\u001b[0m\u001b[0mhidden4_output\u001b[0m\u001b[0;34m,\u001b[0m\u001b[0mhidden5_output\u001b[0m\u001b[0;34m,\u001b[0m\u001b[0mfinal_output\u001b[0m \u001b[0;34m=\u001b[0m \u001b[0mmodel\u001b[0m\u001b[0;34m(\u001b[0m\u001b[0mimages\u001b[0m\u001b[0;34m)\u001b[0m\u001b[0;34m\u001b[0m\u001b[0;34m\u001b[0m\u001b[0m\n\u001b[0m\u001b[1;32m    101\u001b[0m \u001b[0;34m\u001b[0m\u001b[0m\n\u001b[1;32m    102\u001b[0m \u001b[0;31m#print(\"Output of the first hidden layer: \", hidden1_output)\u001b[0m\u001b[0;34m\u001b[0m\u001b[0;34m\u001b[0m\u001b[0m\n",
            "\u001b[0;32m/usr/local/lib/python3.10/dist-packages/torch/nn/modules/module.py\u001b[0m in \u001b[0;36m_wrapped_call_impl\u001b[0;34m(self, *args, **kwargs)\u001b[0m\n\u001b[1;32m   1516\u001b[0m             \u001b[0;32mreturn\u001b[0m \u001b[0mself\u001b[0m\u001b[0;34m.\u001b[0m\u001b[0m_compiled_call_impl\u001b[0m\u001b[0;34m(\u001b[0m\u001b[0;34m*\u001b[0m\u001b[0margs\u001b[0m\u001b[0;34m,\u001b[0m \u001b[0;34m**\u001b[0m\u001b[0mkwargs\u001b[0m\u001b[0;34m)\u001b[0m  \u001b[0;31m# type: ignore[misc]\u001b[0m\u001b[0;34m\u001b[0m\u001b[0;34m\u001b[0m\u001b[0m\n\u001b[1;32m   1517\u001b[0m         \u001b[0;32melse\u001b[0m\u001b[0;34m:\u001b[0m\u001b[0;34m\u001b[0m\u001b[0;34m\u001b[0m\u001b[0m\n\u001b[0;32m-> 1518\u001b[0;31m             \u001b[0;32mreturn\u001b[0m \u001b[0mself\u001b[0m\u001b[0;34m.\u001b[0m\u001b[0m_call_impl\u001b[0m\u001b[0;34m(\u001b[0m\u001b[0;34m*\u001b[0m\u001b[0margs\u001b[0m\u001b[0;34m,\u001b[0m \u001b[0;34m**\u001b[0m\u001b[0mkwargs\u001b[0m\u001b[0;34m)\u001b[0m\u001b[0;34m\u001b[0m\u001b[0;34m\u001b[0m\u001b[0m\n\u001b[0m\u001b[1;32m   1519\u001b[0m \u001b[0;34m\u001b[0m\u001b[0m\n\u001b[1;32m   1520\u001b[0m     \u001b[0;32mdef\u001b[0m \u001b[0m_call_impl\u001b[0m\u001b[0;34m(\u001b[0m\u001b[0mself\u001b[0m\u001b[0;34m,\u001b[0m \u001b[0;34m*\u001b[0m\u001b[0margs\u001b[0m\u001b[0;34m,\u001b[0m \u001b[0;34m**\u001b[0m\u001b[0mkwargs\u001b[0m\u001b[0;34m)\u001b[0m\u001b[0;34m:\u001b[0m\u001b[0;34m\u001b[0m\u001b[0;34m\u001b[0m\u001b[0m\n",
            "\u001b[0;32m/usr/local/lib/python3.10/dist-packages/torch/nn/modules/module.py\u001b[0m in \u001b[0;36m_call_impl\u001b[0;34m(self, *args, **kwargs)\u001b[0m\n\u001b[1;32m   1525\u001b[0m                 \u001b[0;32mor\u001b[0m \u001b[0m_global_backward_pre_hooks\u001b[0m \u001b[0;32mor\u001b[0m \u001b[0m_global_backward_hooks\u001b[0m\u001b[0;34m\u001b[0m\u001b[0;34m\u001b[0m\u001b[0m\n\u001b[1;32m   1526\u001b[0m                 or _global_forward_hooks or _global_forward_pre_hooks):\n\u001b[0;32m-> 1527\u001b[0;31m             \u001b[0;32mreturn\u001b[0m \u001b[0mforward_call\u001b[0m\u001b[0;34m(\u001b[0m\u001b[0;34m*\u001b[0m\u001b[0margs\u001b[0m\u001b[0;34m,\u001b[0m \u001b[0;34m**\u001b[0m\u001b[0mkwargs\u001b[0m\u001b[0;34m)\u001b[0m\u001b[0;34m\u001b[0m\u001b[0;34m\u001b[0m\u001b[0m\n\u001b[0m\u001b[1;32m   1528\u001b[0m \u001b[0;34m\u001b[0m\u001b[0m\n\u001b[1;32m   1529\u001b[0m         \u001b[0;32mtry\u001b[0m\u001b[0;34m:\u001b[0m\u001b[0;34m\u001b[0m\u001b[0;34m\u001b[0m\u001b[0m\n",
            "\u001b[0;32m<ipython-input-36-372b7ca0bc15>\u001b[0m in \u001b[0;36mforward\u001b[0;34m(self, x)\u001b[0m\n\u001b[1;32m     65\u001b[0m         \u001b[0ma1\u001b[0m \u001b[0;34m=\u001b[0m \u001b[0mtorch\u001b[0m\u001b[0;34m.\u001b[0m\u001b[0mrelu\u001b[0m\u001b[0;34m(\u001b[0m\u001b[0mself\u001b[0m\u001b[0;34m.\u001b[0m\u001b[0mlayer1\u001b[0m\u001b[0;34m(\u001b[0m\u001b[0mx\u001b[0m\u001b[0;34m)\u001b[0m\u001b[0;34m)\u001b[0m\u001b[0;34m\u001b[0m\u001b[0;34m\u001b[0m\u001b[0m\n\u001b[1;32m     66\u001b[0m         \u001b[0ma2\u001b[0m \u001b[0;34m=\u001b[0m \u001b[0mtorch\u001b[0m\u001b[0;34m.\u001b[0m\u001b[0mrelu\u001b[0m\u001b[0;34m(\u001b[0m\u001b[0mself\u001b[0m\u001b[0;34m.\u001b[0m\u001b[0mlayer2\u001b[0m\u001b[0;34m(\u001b[0m\u001b[0ma1\u001b[0m\u001b[0;34m)\u001b[0m\u001b[0;34m)\u001b[0m\u001b[0;34m\u001b[0m\u001b[0;34m\u001b[0m\u001b[0m\n\u001b[0;32m---> 67\u001b[0;31m         \u001b[0ma3\u001b[0m \u001b[0;34m=\u001b[0m \u001b[0mtorch\u001b[0m\u001b[0;34m.\u001b[0m\u001b[0mrelu\u001b[0m\u001b[0;34m(\u001b[0m\u001b[0mself\u001b[0m\u001b[0;34m.\u001b[0m\u001b[0mlayer3\u001b[0m\u001b[0;34m(\u001b[0m\u001b[0ma2\u001b[0m\u001b[0;34m)\u001b[0m\u001b[0;34m)\u001b[0m\u001b[0;34m\u001b[0m\u001b[0;34m\u001b[0m\u001b[0m\n\u001b[0m\u001b[1;32m     68\u001b[0m         \u001b[0ma4\u001b[0m \u001b[0;34m=\u001b[0m \u001b[0mtorch\u001b[0m\u001b[0;34m.\u001b[0m\u001b[0mrelu\u001b[0m\u001b[0;34m(\u001b[0m\u001b[0mself\u001b[0m\u001b[0;34m.\u001b[0m\u001b[0mlayer4\u001b[0m\u001b[0;34m(\u001b[0m\u001b[0ma3\u001b[0m\u001b[0;34m)\u001b[0m\u001b[0;34m)\u001b[0m\u001b[0;34m\u001b[0m\u001b[0;34m\u001b[0m\u001b[0m\n\u001b[1;32m     69\u001b[0m         \u001b[0ma5\u001b[0m \u001b[0;34m=\u001b[0m \u001b[0mtorch\u001b[0m\u001b[0;34m.\u001b[0m\u001b[0mrelu\u001b[0m\u001b[0;34m(\u001b[0m\u001b[0mself\u001b[0m\u001b[0;34m.\u001b[0m\u001b[0mlayer5\u001b[0m\u001b[0;34m(\u001b[0m\u001b[0ma4\u001b[0m\u001b[0;34m)\u001b[0m\u001b[0;34m)\u001b[0m\u001b[0;34m\u001b[0m\u001b[0;34m\u001b[0m\u001b[0m\n",
            "\u001b[0;32m/usr/local/lib/python3.10/dist-packages/torch/nn/modules/module.py\u001b[0m in \u001b[0;36m_wrapped_call_impl\u001b[0;34m(self, *args, **kwargs)\u001b[0m\n\u001b[1;32m   1516\u001b[0m             \u001b[0;32mreturn\u001b[0m \u001b[0mself\u001b[0m\u001b[0;34m.\u001b[0m\u001b[0m_compiled_call_impl\u001b[0m\u001b[0;34m(\u001b[0m\u001b[0;34m*\u001b[0m\u001b[0margs\u001b[0m\u001b[0;34m,\u001b[0m \u001b[0;34m**\u001b[0m\u001b[0mkwargs\u001b[0m\u001b[0;34m)\u001b[0m  \u001b[0;31m# type: ignore[misc]\u001b[0m\u001b[0;34m\u001b[0m\u001b[0;34m\u001b[0m\u001b[0m\n\u001b[1;32m   1517\u001b[0m         \u001b[0;32melse\u001b[0m\u001b[0;34m:\u001b[0m\u001b[0;34m\u001b[0m\u001b[0;34m\u001b[0m\u001b[0m\n\u001b[0;32m-> 1518\u001b[0;31m             \u001b[0;32mreturn\u001b[0m \u001b[0mself\u001b[0m\u001b[0;34m.\u001b[0m\u001b[0m_call_impl\u001b[0m\u001b[0;34m(\u001b[0m\u001b[0;34m*\u001b[0m\u001b[0margs\u001b[0m\u001b[0;34m,\u001b[0m \u001b[0;34m**\u001b[0m\u001b[0mkwargs\u001b[0m\u001b[0;34m)\u001b[0m\u001b[0;34m\u001b[0m\u001b[0;34m\u001b[0m\u001b[0m\n\u001b[0m\u001b[1;32m   1519\u001b[0m \u001b[0;34m\u001b[0m\u001b[0m\n\u001b[1;32m   1520\u001b[0m     \u001b[0;32mdef\u001b[0m \u001b[0m_call_impl\u001b[0m\u001b[0;34m(\u001b[0m\u001b[0mself\u001b[0m\u001b[0;34m,\u001b[0m \u001b[0;34m*\u001b[0m\u001b[0margs\u001b[0m\u001b[0;34m,\u001b[0m \u001b[0;34m**\u001b[0m\u001b[0mkwargs\u001b[0m\u001b[0;34m)\u001b[0m\u001b[0;34m:\u001b[0m\u001b[0;34m\u001b[0m\u001b[0;34m\u001b[0m\u001b[0m\n",
            "\u001b[0;32m/usr/local/lib/python3.10/dist-packages/torch/nn/modules/module.py\u001b[0m in \u001b[0;36m_call_impl\u001b[0;34m(self, *args, **kwargs)\u001b[0m\n\u001b[1;32m   1525\u001b[0m                 \u001b[0;32mor\u001b[0m \u001b[0m_global_backward_pre_hooks\u001b[0m \u001b[0;32mor\u001b[0m \u001b[0m_global_backward_hooks\u001b[0m\u001b[0;34m\u001b[0m\u001b[0;34m\u001b[0m\u001b[0m\n\u001b[1;32m   1526\u001b[0m                 or _global_forward_hooks or _global_forward_pre_hooks):\n\u001b[0;32m-> 1527\u001b[0;31m             \u001b[0;32mreturn\u001b[0m \u001b[0mforward_call\u001b[0m\u001b[0;34m(\u001b[0m\u001b[0;34m*\u001b[0m\u001b[0margs\u001b[0m\u001b[0;34m,\u001b[0m \u001b[0;34m**\u001b[0m\u001b[0mkwargs\u001b[0m\u001b[0;34m)\u001b[0m\u001b[0;34m\u001b[0m\u001b[0;34m\u001b[0m\u001b[0m\n\u001b[0m\u001b[1;32m   1528\u001b[0m \u001b[0;34m\u001b[0m\u001b[0m\n\u001b[1;32m   1529\u001b[0m         \u001b[0;32mtry\u001b[0m\u001b[0;34m:\u001b[0m\u001b[0;34m\u001b[0m\u001b[0;34m\u001b[0m\u001b[0m\n",
            "\u001b[0;32m/usr/local/lib/python3.10/dist-packages/torch/nn/modules/linear.py\u001b[0m in \u001b[0;36mforward\u001b[0;34m(self, input)\u001b[0m\n\u001b[1;32m    112\u001b[0m \u001b[0;34m\u001b[0m\u001b[0m\n\u001b[1;32m    113\u001b[0m     \u001b[0;32mdef\u001b[0m \u001b[0mforward\u001b[0m\u001b[0;34m(\u001b[0m\u001b[0mself\u001b[0m\u001b[0;34m,\u001b[0m \u001b[0minput\u001b[0m\u001b[0;34m:\u001b[0m \u001b[0mTensor\u001b[0m\u001b[0;34m)\u001b[0m \u001b[0;34m->\u001b[0m \u001b[0mTensor\u001b[0m\u001b[0;34m:\u001b[0m\u001b[0;34m\u001b[0m\u001b[0;34m\u001b[0m\u001b[0m\n\u001b[0;32m--> 114\u001b[0;31m         \u001b[0;32mreturn\u001b[0m \u001b[0mF\u001b[0m\u001b[0;34m.\u001b[0m\u001b[0mlinear\u001b[0m\u001b[0;34m(\u001b[0m\u001b[0minput\u001b[0m\u001b[0;34m,\u001b[0m \u001b[0mself\u001b[0m\u001b[0;34m.\u001b[0m\u001b[0mweight\u001b[0m\u001b[0;34m,\u001b[0m \u001b[0mself\u001b[0m\u001b[0;34m.\u001b[0m\u001b[0mbias\u001b[0m\u001b[0;34m)\u001b[0m\u001b[0;34m\u001b[0m\u001b[0;34m\u001b[0m\u001b[0m\n\u001b[0m\u001b[1;32m    115\u001b[0m \u001b[0;34m\u001b[0m\u001b[0m\n\u001b[1;32m    116\u001b[0m     \u001b[0;32mdef\u001b[0m \u001b[0mextra_repr\u001b[0m\u001b[0;34m(\u001b[0m\u001b[0mself\u001b[0m\u001b[0;34m)\u001b[0m \u001b[0;34m->\u001b[0m \u001b[0mstr\u001b[0m\u001b[0;34m:\u001b[0m\u001b[0;34m\u001b[0m\u001b[0;34m\u001b[0m\u001b[0m\n",
            "\u001b[0;31mRuntimeError\u001b[0m: mat1 and mat2 shapes cannot be multiplied (1x196 and 392x196)"
          ]
        }
      ]
    },
    {
      "cell_type": "code",
      "source": [
        "hidden1_output_np = hidden1_output.detach().numpy().flatten()\n",
        "hidden2_output_np = hidden2_output.detach().numpy().flatten()\n",
        "\n",
        "# Plotting\n",
        "plt.figure(figsize=(15, 5))\n",
        "\n",
        "# Plot for first hidden layer\n",
        "plt.subplot(1, 2, 1)\n",
        "plt.title('First Hidden Layer Outputs')\n",
        "plt.plot(hidden1_output_np)\n",
        "plt.xlabel('Neuron')\n",
        "plt.ylabel('Activation')\n",
        "\n",
        "# Plot for second hidden layer\n",
        "plt.subplot(1, 2, 2)\n",
        "plt.title('Second Hidden Layer Outputs')\n",
        "plt.plot(hidden2_output_np)\n",
        "plt.xlabel('Neuron')\n",
        "plt.ylabel('Activation')\n",
        "\n",
        "plt.tight_layout()\n",
        "plt.show()"
      ],
      "metadata": {
        "id": "z2dDya6vw8i7",
        "colab": {
          "base_uri": "https://localhost:8080/",
          "height": 352
        },
        "outputId": "282c9ffb-f293-4950-e2bd-da2c4b28062e"
      },
      "execution_count": null,
      "outputs": [
        {
          "output_type": "display_data",
          "data": {
            "text/plain": [
              "<Figure size 1500x500 with 2 Axes>"
            ],
            "image/png": "[encoded data removed]"
          },
          "metadata": {}
        }
      ]
    },
    {
      "cell_type": "code",
      "source": [
        "# Find indices of neurons with zero output in the first hidden layer\n",
        "zero_neurons_hidden1 = torch.where(hidden1_output == 0)[1]\n",
        "print(\"Indices of neurons with zero output in the first hidden layer:\", zero_neurons_hidden1.numpy())\n",
        "\n",
        "# Find indices of neurons with zero output in the second hidden layer\n",
        "zero_neurons_hidden2 = torch.where(hidden2_output == 0)[1]\n",
        "print(\"Indices of neurons with zero output in the second hidden layer:\", zero_neurons_hidden2.numpy())\n"
      ],
      "metadata": {
        "colab": {
          "base_uri": "https://localhost:8080/"
        },
        "id": "CdKWVMFI53Eg",
        "outputId": "c79a4cef-9276-4f74-9b83-b3db8d215528"
      },
      "execution_count": null,
      "outputs": [
        {
          "output_type": "stream",
          "name": "stdout",
          "text": [
            "Indices of neurons with zero output in the first hidden layer: [  4   9  13  17  18  21  22  23  27  29  31  32  33  40  42  45  49  50\n",
            "  51  52  54  60  61  63  67  68  72  73  75  78  81  85  87  88  89  93\n",
            "  95 100 103 106 111 114 117 118 122 125 133 136 141 142 143 147 149 151\n",
            " 152 156 161 163 164 165 167 168 171 172 173 175 177 179 180 182 192 193\n",
            " 200 202 204 205 206 210 215 218 221 222 226 231 233 236 239 240 241 242\n",
            " 244 245 247 248]\n",
            "Indices of neurons with zero output in the second hidden layer: [  3   8  11  14  15  16  19  20  23  27  28  32  39  45  47  49  54  59\n",
            "  61  62  68  73  74  75  76  78  85  87  88  89  95  96  98 102 105 109\n",
            " 112 114 116 117 118 120 121 122 124 125 126 129 130 132 135 139 141 142\n",
            " 144 147 150 152 154 156 157 160 161 162 166 167 169 171 176 181 182 183\n",
            " 186 193 194 196]\n"
          ]
        }
      ]
    },
    {
      "cell_type": "code",
      "source": [
        "import torch\n",
        "import torchvision\n",
        "from torchvision import transforms\n",
        "from torch.utils.data import DataLoader\n",
        "import numpy as np\n",
        "\n",
        "# Define a transform to normalize the data\n",
        "transform = transforms.Compose([transforms.ToTensor(),\n",
        "                                transforms.Normalize((0.5,), (0.5,))])\n",
        "\n",
        "# Download and load the MNIST training data\n",
        "trainset = torchvision.datasets.MNIST(root='./data', train=True, download=True, transform=transform)\n",
        "trainloader = DataLoader(trainset, batch_size=64, shuffle=True)  # Batch size can be adjusted\n",
        "\n",
        "\n",
        "# Initialize lists to store outputs\n",
        "hidden1_outputs = []\n",
        "hidden2_outputs = []\n",
        "\n",
        "# Process the entire dataset\n",
        "for images, labels in trainloader:\n",
        "    with torch.no_grad():  # Disable gradient computation\n",
        "        hidden1_output, hidden2_output, final_output = model(images)\n",
        "        hidden1_outputs.append(hidden1_output)\n",
        "        hidden2_outputs.append(hidden2_output)\n",
        "\n",
        "# Convert lists of tensors to single tensors\n",
        "hidden1_outputs = torch.cat(hidden1_outputs, dim=0)\n",
        "hidden2_outputs = torch.cat(hidden2_outputs, dim=0)\n",
        "\n",
        "# Example: Print the shape of the outputs\n",
        "print(\"Shape of first hidden layer outputs:\", hidden1_outputs.shape)\n",
        "print(\"Shape of second hidden layer outputs:\", hidden2_outputs.shape)\n",
        "\n",
        "# Example: Find indices of neurons with zero output in the first hidden layer of the first batch\n",
        "zero_neurons_hidden1 = torch.where(hidden1_outputs[1] == 0)[0]  # First batch\n",
        "print(\"Indices of neurons with zero output in the first hidden layer of the first batch:\", zero_neurons_hidden1.numpy())"
      ],
      "metadata": {
        "colab": {
          "base_uri": "https://localhost:8080/"
        },
        "id": "I6wLgLoD69v_",
        "outputId": "1e0077f3-840f-4c9b-8e17-6514c1b5eb26"
      },
      "execution_count": null,
      "outputs": [
        {
          "output_type": "stream",
          "name": "stdout",
          "text": [
            "Shape of first hidden layer outputs: torch.Size([60000, 250])\n",
            "Shape of second hidden layer outputs: torch.Size([60000, 197])\n",
            "Indices of neurons with zero output in the first hidden layer of the first batch: [  9  13  17  18  22  23  27  31  32  33  36  37  39  40  42  45  46  50\n",
            "  52  53  54  60  61  62  63  64  65  66  67  68  72  73  75  81  83  87\n",
            "  92  93 100 101 111 114 122 125 133 136 137 142 143 152 156 158 161 163\n",
            " 165 167 168 172 175 177 179 180 182 192 200 201 202 204 207 212 215 220\n",
            " 221 222 226 231 236 238 247 248]\n"
          ]
        }
      ]
    },
    {
      "cell_type": "code",
      "source": [
        "hidden1_output = torch.mean(hidden1_outputs,0)\n",
        "hidden2_output = torch.mean(hidden2_outputs,0)"
      ],
      "metadata": {
        "id": "XEaDPDT176u6"
      },
      "execution_count": null,
      "outputs": []
    },
    {
      "cell_type": "code",
      "source": [
        "zero_neurons_hidden1 = torch.where(hidden1_output <= 0.001)[0]\n",
        "zero_neurons_hidden2 = torch.where(hidden2_output <= 0.001)[0]"
      ],
      "metadata": {
        "id": "0kVobU6m8Ees"
      },
      "execution_count": null,
      "outputs": []
    },
    {
      "cell_type": "code",
      "source": [
        "print(\"Indices of neurons with zero output in the first hidden layer:\", zero_neurons_hidden1.numpy())\n",
        "print(\"Indices of neurons with zero output in the second hidden layer:\", zero_neurons_hidden2.numpy())"
      ],
      "metadata": {
        "colab": {
          "base_uri": "https://localhost:8080/"
        },
        "id": "67qexsk_8Ipr",
        "outputId": "62178acb-b8a9-45f9-9586-fe02d5240007"
      },
      "execution_count": null,
      "outputs": [
        {
          "output_type": "stream",
          "name": "stdout",
          "text": [
            "Indices of neurons with zero output in the first hidden layer: [ 18  23 111 114 136 143 202 222 231]\n",
            "Indices of neurons with zero output in the second hidden layer: [  3   8  14  15  20  28  39  45  54  62  74  78  85  96  98 102 112 117\n",
            " 122 124 126 141 144 150 160 161 162 167 169 171 181 194]\n"
          ]
        }
      ]
    },
    {
      "cell_type": "code",
      "source": [
        "# Now let us process the first part of weights\n",
        "\n",
        "# Now let us process the second part of weights\n",
        "\n",
        "import torch\n",
        "import torchvision\n",
        "from torchvision import transforms\n",
        "from torch.utils.data import DataLoader\n",
        "\n",
        "# Define your weights and biases here\n",
        "# Example (replace these with your actual tensors):\n",
        "#your_weights_1 = torch.randn(784, 250)\n",
        "your_weights_1 = torch.randn(250,784)\n",
        "your_weights_1 = data[0][\"fc1.weight\"]\n",
        "your_biases_1 = torch.randn(250)\n",
        "your_biases_1 = data[0][\"fc1.bias\"]\n",
        "\n",
        "#your_weights_2 = torch.randn(250, 197)\n",
        "your_weights_2 = torch.randn(197,250)\n",
        "your_weights_2 = data[0][\"fc2.weight\"]\n",
        "your_biases_2 = torch.randn(197)\n",
        "your_biases_2 = data[0][\"fc2.bias\"]\n",
        "\n",
        "#your_weights_3 = torch.randn(197, 10)\n",
        "your_weights_3 = torch.randn(10,197)\n",
        "your_weights_3 = data[0][\"classifier.weight\"]\n",
        "your_biases_3 = torch.randn(10)\n",
        "your_biases_3 = data[0][\"classifier.bias\"]\n",
        "\n",
        "# Define a transform to normalize the data\n",
        "transform = transforms.Compose([transforms.ToTensor(),\n",
        "                                transforms.Normalize((0.5,), (0.5,))])\n",
        "\n",
        "# Download and load the MNIST training data\n",
        "trainset = torchvision.datasets.MNIST(root='./data', train=True, download=True, transform=transform)\n",
        "trainloader = DataLoader(trainset, batch_size=1, shuffle=True)\n",
        "\n",
        "# Define the MLP model\n",
        "class MLP(torch.nn.Module):\n",
        "    def __init__(self):\n",
        "        super(MLP, self).__init__()\n",
        "        self.layer1 = torch.nn.Linear(784, 250)\n",
        "        self.layer2 = torch.nn.Linear(250, 197)\n",
        "        self.output_layer = torch.nn.Linear(197, 10)\n",
        "\n",
        "    def forward(self, x):\n",
        "        x = x.view(-1, 784)  # Flatten the image\n",
        "        a1 = torch.relu(self.layer1(x))\n",
        "        a2 = torch.relu(self.layer2(a1))\n",
        "        output = torch.softmax(self.output_layer(a2), dim=1)\n",
        "        return a1, a2, output\n",
        "\n",
        "# Initialize the model\n",
        "model = MLP()\n",
        "\n",
        "# Set the weights and biases\n",
        "model.layer1.weight = torch.nn.Parameter(your_weights_1)\n",
        "model.layer1.bias = torch.nn.Parameter(your_biases_1)\n",
        "\n",
        "model.layer2.weight = torch.nn.Parameter(your_weights_2)\n",
        "model.layer2.bias = torch.nn.Parameter(your_biases_2)\n",
        "\n",
        "model.output_layer.weight = torch.nn.Parameter(your_weights_3)\n",
        "model.output_layer.bias = torch.nn.Parameter(your_biases_3)\n",
        "\n",
        "# Fetch one batch of data\n",
        "dataiter = iter(trainloader)\n",
        "images, labels = next(dataiter)\n",
        "\n",
        "# Forward pass through the model\n",
        "hidden1_output, hidden2_output, final_output = model(images)\n",
        "\n",
        "#print(\"Output of the first hidden layer: \", hidden1_output)\n",
        "#print(\"Output of the second hidden layer: \", hidden2_output)\n",
        "#print(\"Final output of the network: \", final_output)\n",
        "\n",
        "hidden1_outputs = []\n",
        "hidden2_outputs = []\n",
        "\n",
        "# Process the entire dataset\n",
        "for images, labels in trainloader:\n",
        "    with torch.no_grad():  # Disable gradient computation\n",
        "        hidden1_output, hidden2_output, final_output = model(images)\n",
        "        hidden1_outputs.append(hidden1_output)\n",
        "        hidden2_outputs.append(hidden2_output)\n",
        "\n",
        "# Convert lists of tensors to single tensors\n",
        "hidden1_outputs = torch.cat(hidden1_outputs, dim=0)\n",
        "hidden2_outputs = torch.cat(hidden2_outputs, dim=0)\n",
        "zero_neurons_hidden1 = [[] for _ in range(3)]\n",
        "zero_neurons_hidden2 = [[] for _ in range(3)]\n",
        "\n",
        "#hidden1_output_ave = torch.tensor([[0]*250,[0]*250,[0]*250])\n",
        "#hidden2_output_ave = torch.tensor([[0]*197,[0]*197,[0]*197])\n",
        "hidden1_output_ave_0 = torch.mean(hidden1_outputs,0)\n",
        "hidden2_output_ave_0 = torch.mean(hidden2_outputs,0)\n",
        "zero_neurons_hidden1[0] = torch.where(hidden1_output_ave_0 <= 0.001)[0]\n",
        "zero_neurons_hidden2[0] = torch.where(hidden2_output_ave_0 <= 0.001)[0]\n",
        "print(\"Indices of neurons with zero output in the first hidden layer:\", zero_neurons_hidden1[0].numpy())\n",
        "print(\"Indices of neurons with zero output in the second hidden layer:\", zero_neurons_hidden2[0].numpy())\n"
      ],
      "metadata": {
        "colab": {
          "base_uri": "https://localhost:8080/"
        },
        "id": "ZcWCAGLoA5v3",
        "outputId": "44b718ef-0e1d-4450-f1b4-28ab9272b15a"
      },
      "execution_count": null,
      "outputs": [
        {
          "output_type": "stream",
          "name": "stdout",
          "text": [
            "Indices of neurons with zero output in the first hidden layer: [ 18  23 111 114 136 143 202 222 231]\n",
            "Indices of neurons with zero output in the second hidden layer: [  3   8  14  15  20  28  39  45  54  62  74  78  85  96  98 102 112 117\n",
            " 122 124 126 141 144 150 160 161 162 167 169 171 181 194]\n"
          ]
        }
      ]
    },
    {
      "cell_type": "code",
      "source": [
        "zero_neurons_hidden1"
      ],
      "metadata": {
        "colab": {
          "base_uri": "https://localhost:8080/"
        },
        "id": "O4ujp_oGD--j",
        "outputId": "75ade8fd-caf6-4490-b18c-57c6a1867b8c"
      },
      "execution_count": null,
      "outputs": [
        {
          "output_type": "execute_result",
          "data": {
            "text/plain": [
              "[tensor([ 18,  23, 111, 114, 136, 143, 202, 222, 231]), [], []]"
            ]
          },
          "metadata": {},
          "execution_count": 15
        }
      ]
    },
    {
      "cell_type": "code",
      "source": [
        "# Now let us process the second part of weights\n",
        "\n",
        "import torch\n",
        "import torchvision\n",
        "from torchvision import transforms\n",
        "from torch.utils.data import DataLoader\n",
        "\n",
        "# Define your weights and biases here\n",
        "# Example (replace these with your actual tensors):\n",
        "#your_weights_1 = torch.randn(784, 250)\n",
        "your_weights_1 = torch.randn(250,784)\n",
        "your_weights_1 = data[1][\"fc1.weight\"]\n",
        "your_biases_1 = torch.randn(250)\n",
        "your_biases_1 = data[1][\"fc1.bias\"]\n",
        "\n",
        "#your_weights_2 = torch.randn(250, 197)\n",
        "your_weights_2 = torch.randn(197,250)\n",
        "your_weights_2 = data[1][\"fc2.weight\"]\n",
        "your_biases_2 = torch.randn(197)\n",
        "your_biases_2 = data[1][\"fc2.bias\"]\n",
        "\n",
        "#your_weights_3 = torch.randn(197, 10)\n",
        "your_weights_3 = torch.randn(10,197)\n",
        "your_weights_3 = data[1][\"classifier.weight\"]\n",
        "your_biases_3 = torch.randn(10)\n",
        "your_biases_3 = data[1][\"classifier.bias\"]\n",
        "\n",
        "# Define a transform to normalize the data\n",
        "transform = transforms.Compose([transforms.ToTensor(),\n",
        "                                transforms.Normalize((0.5,), (0.5,))])\n",
        "\n",
        "# Download and load the MNIST training data\n",
        "trainset = torchvision.datasets.MNIST(root='./data', train=True, download=True, transform=transform)\n",
        "trainloader = DataLoader(trainset, batch_size=1, shuffle=True)\n",
        "\n",
        "# Define the MLP model\n",
        "class MLP(torch.nn.Module):\n",
        "    def __init__(self):\n",
        "        super(MLP, self).__init__()\n",
        "        self.layer1 = torch.nn.Linear(784, 250)\n",
        "        self.layer2 = torch.nn.Linear(250, 197)\n",
        "        self.output_layer = torch.nn.Linear(197, 10)\n",
        "\n",
        "    def forward(self, x):\n",
        "        x = x.view(-1, 784)  # Flatten the image\n",
        "        a1 = torch.relu(self.layer1(x))\n",
        "        a2 = torch.relu(self.layer2(a1))\n",
        "        output = torch.softmax(self.output_layer(a2), dim=1)\n",
        "        return a1, a2, output\n",
        "\n",
        "# Initialize the model\n",
        "model = MLP()\n",
        "\n",
        "# Set the weights and biases\n",
        "model.layer1.weight = torch.nn.Parameter(your_weights_1)\n",
        "model.layer1.bias = torch.nn.Parameter(your_biases_1)\n",
        "\n",
        "model.layer2.weight = torch.nn.Parameter(your_weights_2)\n",
        "model.layer2.bias = torch.nn.Parameter(your_biases_2)\n",
        "\n",
        "model.output_layer.weight = torch.nn.Parameter(your_weights_3)\n",
        "model.output_layer.bias = torch.nn.Parameter(your_biases_3)\n",
        "\n",
        "# Fetch one batch of data\n",
        "dataiter = iter(trainloader)\n",
        "images, labels = next(dataiter)\n",
        "\n",
        "# Forward pass through the model\n",
        "hidden1_output, hidden2_output, final_output = model(images)\n",
        "\n",
        "#print(\"Output of the first hidden layer: \", hidden1_output)\n",
        "#print(\"Output of the second hidden layer: \", hidden2_output)\n",
        "#print(\"Final output of the network: \", final_output)\n",
        "\n",
        "hidden1_outputs = []\n",
        "hidden2_outputs = []\n",
        "\n",
        "# Process the entire dataset\n",
        "for images, labels in trainloader:\n",
        "    with torch.no_grad():  # Disable gradient computation\n",
        "        hidden1_output, hidden2_output, final_output = model(images)\n",
        "        hidden1_outputs.append(hidden1_output)\n",
        "        hidden2_outputs.append(hidden2_output)\n",
        "\n",
        "# Convert lists of tensors to single tensors\n",
        "hidden1_outputs = torch.cat(hidden1_outputs, dim=0)\n",
        "hidden2_outputs = torch.cat(hidden2_outputs, dim=0)\n"
      ],
      "metadata": {
        "id": "J2SNSRcJ_SMG"
      },
      "execution_count": null,
      "outputs": []
    },
    {
      "cell_type": "code",
      "source": [
        "hidden1_output_ave_1 = torch.mean(hidden1_outputs,0)\n",
        "hidden2_output_ave_1 = torch.mean(hidden2_outputs,0)\n",
        "zero_neurons_hidden1[1] = torch.where(hidden1_output_ave_1 <= 0.001)[0]\n",
        "zero_neurons_hidden2[1] = torch.where(hidden2_output_ave_1 <= 0.001)[0]\n",
        "print(\"Indices of neurons with zero output in the first hidden layer:\", zero_neurons_hidden1[1].numpy())\n",
        "print(\"Indices of neurons with zero output in the second hidden layer:\", zero_neurons_hidden2[1].numpy())"
      ],
      "metadata": {
        "colab": {
          "base_uri": "https://localhost:8080/"
        },
        "id": "7Ot09k2X_rU1",
        "outputId": "4b5a6e0a-c223-49b8-fb47-4d2bf86049c8"
      },
      "execution_count": null,
      "outputs": [
        {
          "output_type": "stream",
          "name": "stdout",
          "text": [
            "Indices of neurons with zero output in the first hidden layer: [ 18  23  42 119 133 150 152 222]\n",
            "Indices of neurons with zero output in the second hidden layer: [  5   9  11  15  27  29  31  32  34  45  47  51  53  54  55  56  59  62\n",
            "  73  74  76  78  79  85  96  98 103 112 116 117 125 126 129 134 139 141\n",
            " 144 157 160 161 166 181 193]\n"
          ]
        }
      ]
    },
    {
      "cell_type": "code",
      "source": [
        "# Now let us process the global weights\n",
        "\n",
        "# Now let us process the second part of weights\n",
        "\n",
        "import torch\n",
        "import torchvision\n",
        "from torchvision import transforms\n",
        "from torch.utils.data import DataLoader\n",
        "\n",
        "# Define your weights and biases here\n",
        "# Example (replace these with your actual tensors):\n",
        "#your_weights_1 = torch.randn(784, 250)\n",
        "your_weights_1 = torch.randn(250,784)\n",
        "your_weights_1 = data['global'][\"fc1.weight\"]\n",
        "your_biases_1 = torch.randn(250)\n",
        "your_biases_1 = data['global'][\"fc1.bias\"]\n",
        "\n",
        "#your_weights_2 = torch.randn(250, 197)\n",
        "your_weights_2 = torch.randn(197,250)\n",
        "your_weights_2 = data['global'][\"fc2.weight\"]\n",
        "your_biases_2 = torch.randn(197)\n",
        "your_biases_2 = data['global'][\"fc2.bias\"]\n",
        "\n",
        "#your_weights_3 = torch.randn(197, 10)\n",
        "your_weights_3 = torch.randn(10,197)\n",
        "your_weights_3 = data['global'][\"classifier.weight\"]\n",
        "your_biases_3 = torch.randn(10)\n",
        "your_biases_3 = data['global'][\"classifier.bias\"]\n",
        "\n",
        "# Define a transform to normalize the data\n",
        "transform = transforms.Compose([transforms.ToTensor(),\n",
        "                                transforms.Normalize((0.5,), (0.5,))])\n",
        "\n",
        "# Download and load the MNIST training data\n",
        "trainset = torchvision.datasets.MNIST(root='./data', train=True, download=True, transform=transform)\n",
        "trainloader = DataLoader(trainset, batch_size=1, shuffle=True)\n",
        "\n",
        "# Define the MLP model\n",
        "class MLP(torch.nn.Module):\n",
        "    def __init__(self):\n",
        "        super(MLP, self).__init__()\n",
        "        self.layer1 = torch.nn.Linear(784, 250)\n",
        "        self.layer2 = torch.nn.Linear(250, 197)\n",
        "        self.output_layer = torch.nn.Linear(197, 10)\n",
        "\n",
        "    def forward(self, x):\n",
        "        x = x.view(-1, 784)  # Flatten the image\n",
        "        a1 = torch.relu(self.layer1(x))\n",
        "        a2 = torch.relu(self.layer2(a1))\n",
        "        output = torch.softmax(self.output_layer(a2), dim=1)\n",
        "        return a1, a2, output\n",
        "\n",
        "# Initialize the model\n",
        "model = MLP()\n",
        "\n",
        "# Set the weights and biases\n",
        "model.layer1.weight = torch.nn.Parameter(your_weights_1)\n",
        "model.layer1.bias = torch.nn.Parameter(your_biases_1)\n",
        "\n",
        "model.layer2.weight = torch.nn.Parameter(your_weights_2)\n",
        "model.layer2.bias = torch.nn.Parameter(your_biases_2)\n",
        "\n",
        "model.output_layer.weight = torch.nn.Parameter(your_weights_3)\n",
        "model.output_layer.bias = torch.nn.Parameter(your_biases_3)\n",
        "\n",
        "# Fetch one batch of data\n",
        "dataiter = iter(trainloader)\n",
        "images, labels = next(dataiter)\n",
        "\n",
        "# Forward pass through the model\n",
        "hidden1_output, hidden2_output, final_output = model(images)\n",
        "\n",
        "#print(\"Output of the first hidden layer: \", hidden1_output)\n",
        "#print(\"Output of the second hidden layer: \", hidden2_output)\n",
        "#print(\"Final output of the network: \", final_output)\n",
        "\n",
        "hidden1_outputs = []\n",
        "hidden2_outputs = []\n",
        "\n",
        "# Process the entire dataset\n",
        "for images, labels in trainloader:\n",
        "    with torch.no_grad():  # Disable gradient computation\n",
        "        hidden1_output, hidden2_output, final_output = model(images)\n",
        "        hidden1_outputs.append(hidden1_output)\n",
        "        hidden2_outputs.append(hidden2_output)\n",
        "\n",
        "# Convert lists of tensors to single tensors\n",
        "hidden1_outputs = torch.cat(hidden1_outputs, dim=0)\n",
        "hidden2_outputs = torch.cat(hidden2_outputs, dim=0)\n",
        "\n",
        "hidden1_output_ave_2 = torch.mean(hidden1_outputs,0)\n",
        "hidden2_output_ave_2 = torch.mean(hidden2_outputs,0)\n",
        "zero_neurons_hidden1[2] = torch.where(hidden1_output_ave_2 <= 0.001)[0]\n",
        "zero_neurons_hidden2[2] = torch.where(hidden2_output_ave_2 <= 0.001)[0]\n",
        "print(\"Indices of neurons with zero output in the first hidden layer:\", zero_neurons_hidden1[2].numpy())\n",
        "print(\"Indices of neurons with zero output in the second hidden layer:\", zero_neurons_hidden2[2].numpy())\n"
      ],
      "metadata": {
        "colab": {
          "base_uri": "https://localhost:8080/"
        },
        "id": "fI9kgDndALAz",
        "outputId": "b1d4f342-6847-4d63-8ec0-e26163ce1ba8"
      },
      "execution_count": null,
      "outputs": [
        {
          "output_type": "stream",
          "name": "stdout",
          "text": [
            "Indices of neurons with zero output in the first hidden layer: [ 18  23  42 119 222]\n",
            "Indices of neurons with zero output in the second hidden layer: [ 14  15  27  32  45  54  62  74  78  85  96  98 112 116 117 122 126 141\n",
            " 144 160 161 181]\n"
          ]
        }
      ]
    },
    {
      "cell_type": "code",
      "source": [
        "hidden1_outputs.size()"
      ],
      "metadata": {
        "id": "zwTE3fp6DJQl",
        "outputId": "0a1255ea-2e23-462b-bf2c-2242de42798b",
        "colab": {
          "base_uri": "https://localhost:8080/"
        }
      },
      "execution_count": null,
      "outputs": [
        {
          "output_type": "execute_result",
          "data": {
            "text/plain": [
              "torch.Size([60000, 250])"
            ]
          },
          "metadata": {},
          "execution_count": 29
        }
      ]
    },
    {
      "cell_type": "code",
      "source": [
        "# now we compute the emergence!\n",
        "# def emergence\n",
        "\n",
        "# Now we compute the emergence!!!\n",
        "\n",
        "def count_paths_dfs(adj_matrix, start, end, visited=None):\n",
        "    if visited is None:\n",
        "        visited = set()\n",
        "\n",
        "    # If start is the end, we've found a path\n",
        "    if start == end:\n",
        "        return 1\n",
        "\n",
        "    # Mark the current node as visited\n",
        "    visited.add(start)\n",
        "\n",
        "    path_count = 0\n",
        "    # Go through the adjacency matrix row for the start node\n",
        "    for neighbor, is_connected in enumerate(adj_matrix[start]):\n",
        "        # If there's a connection and the neighbor hasn't been visited\n",
        "        if is_connected and neighbor not in visited:\n",
        "            path_count += count_paths_dfs(adj_matrix, neighbor, end, visited.copy())\n",
        "\n",
        "    # Return the total path count\n",
        "    return path_count\n",
        "\n",
        "def emergence_compute(adj_matrix_G,V):\n",
        "\n",
        "    adjacent_nodes_set = set()\n",
        "    for node in V:\n",
        "        # Find the indices of adjacent nodes where there's a connection\n",
        "        adjacent_nodes = np.where(adj_matrix_G[node, :] != 0)[0]\n",
        "        # adjacent_nodes = np.where(adj_matrix_G[:, node] != 0)[0]\n",
        "        #adjacent_nodes_list.append(adjacent_nodes)\n",
        "        adjacent_nodes_set.update(adjacent_nodes)\n",
        "\n",
        "    adjacent_nodes_list = sorted(list(adjacent_nodes_set))\n",
        "\n",
        "    num_nodes = adj_matrix_G.shape[0]\n",
        "\n",
        "\n",
        "\n",
        "    P_x = [0]*len(adjacent_nodes_list)\n",
        "\n",
        "    for i in range(len(adjacent_nodes_list)-1):\n",
        "        for j in range(num_nodes-1):\n",
        "            P_x[i] = P_x[i] + count_paths_dfs(adj_matrix_G, adjacent_nodes_list[i], j)\n",
        "\n",
        "        for j in range(len(V)-1):\n",
        "            P_x[i] = P_x[i] - count_paths_dfs(adj_matrix_G, adjacent_nodes_list[i], V[j])\n",
        "\n",
        "\n",
        "    emergence = np.sum(P_x)\n",
        "    return emergence\n"
      ],
      "metadata": {
        "id": "HCni3iUNGwMu"
      },
      "execution_count": null,
      "outputs": []
    },
    {
      "cell_type": "code",
      "source": [
        "# define the network adj matrix\n",
        "def generate_adjacency_matrix(layer_sizes):\n",
        "    \"\"\"\n",
        "    Generate the adjacency matrix for a feed-forward network.\n",
        "\n",
        "    Parameters:\n",
        "    layer_sizes (list): A list of integers indicating the size of each layer.\n",
        "\n",
        "    Returns:\n",
        "    np.array: An adjacency matrix of the feed-forward network.\n",
        "    \"\"\"\n",
        "    total_nodes = sum(layer_sizes)\n",
        "    adjacency_matrix = np.zeros((total_nodes, total_nodes))\n",
        "\n",
        "    # Starting index of the first layer is 0\n",
        "    start_index = 0\n",
        "\n",
        "    # Iterate over the layers and fill the adjacency matrix\n",
        "    for i in range(len(layer_sizes) - 1):\n",
        "        # Size of the current layer and the next layer\n",
        "        current_layer_size = layer_sizes[i]\n",
        "        next_layer_size = layer_sizes[i + 1]\n",
        "\n",
        "        # Indices of the next layer\n",
        "        end_index = start_index + current_layer_size\n",
        "        next_layer_start_index = end_index\n",
        "        next_layer_end_index = next_layer_start_index + next_layer_size\n",
        "\n",
        "        # Set the connections between current layer and next layer to 1\n",
        "        for j in range(start_index, end_index):\n",
        "            adjacency_matrix[j, next_layer_start_index:next_layer_end_index] = 1\n",
        "\n",
        "        # Update the start index for the next iteration\n",
        "        start_index = end_index\n",
        "\n",
        "    return adjacency_matrix"
      ],
      "metadata": {
        "id": "3Tb-GWWLG3DZ"
      },
      "execution_count": null,
      "outputs": []
    },
    {
      "cell_type": "code",
      "source": [
        "# define the layer size\n",
        "#layer_sizes = [250, 197,10]\n",
        "adj_matrix_G = generate_adjacency_matrix(layer_sizes)"
      ],
      "metadata": {
        "id": "drOU-WhDHEK6"
      },
      "execution_count": null,
      "outputs": []
    },
    {
      "cell_type": "code",
      "source": [
        "V0 = torch.cat((zero_neurons_hidden1[0], zero_neurons_hidden2[0]+250),dim=0).tolist()\n",
        "Emergence0 = emergence_compute(adj_matrix_G, V0)"
      ],
      "metadata": {
        "id": "iv2fhjEoHL4J"
      },
      "execution_count": null,
      "outputs": []
    },
    {
      "cell_type": "code",
      "source": [
        "V1 = torch.cat((zero_neurons_hidden1[1], zero_neurons_hidden2[1]+250),dim=0).tolist()\n",
        "Emergence1 = emergence_compute(adj_matrix_G, V1)"
      ],
      "metadata": {
        "id": "JPc9JIIjKbye"
      },
      "execution_count": null,
      "outputs": []
    },
    {
      "cell_type": "code",
      "source": [
        "V2 = torch.cat((zero_neurons_hidden1[2], zero_neurons_hidden2[2]+250),dim=0).tolist()\n",
        "Emergence2 = emergence_compute(adj_matrix_G, V2)"
      ],
      "metadata": {
        "id": "QCnjga9ZHqLG"
      },
      "execution_count": null,
      "outputs": []
    },
    {
      "cell_type": "code",
      "source": [
        "print(len(V0), Emergence0)\n",
        "print(len(V1), Emergence1)\n",
        "print(len(V2), Emergence2)"
      ],
      "metadata": {
        "colab": {
          "base_uri": "https://localhost:8080/"
        },
        "id": "hZo5_nzlLTMS",
        "outputId": "1be88331-3492-4835-97c5-5682cd624277"
      },
      "execution_count": null,
      "outputs": [
        {
          "output_type": "stream",
          "name": "stdout",
          "text": [
            "41 1948\n",
            "51 1937\n",
            "27 1958\n"
          ]
        }
      ]
    },
    {
      "cell_type": "code",
      "source": [
        "# define a new emergence function\n",
        "def emergence_compute_path(adj_matrix_G,V):\n",
        "\n",
        "    adjacent_nodes_set = set()\n",
        "    for node in V:\n",
        "        # Find the indices of adjacent nodes where there's a connection\n",
        "        adjacent_nodes = np.where(adj_matrix_G[node, :] != 0)[0]\n",
        "        # adjacent_nodes = np.where(adj_matrix_G[:, node] != 0)[0]\n",
        "        #adjacent_nodes_list.append(adjacent_nodes)\n",
        "        adjacent_nodes_set.update(adjacent_nodes)\n",
        "\n",
        "    adjacent_nodes_list = sorted(list(adjacent_nodes_set))\n",
        "\n",
        "    num_nodes = adj_matrix_G.shape[0]\n",
        "\n",
        "\n",
        "\n",
        "    P_x = [0]*len(adjacent_nodes_list)\n",
        "\n",
        "    for i in range(len(adjacent_nodes_list)-1):\n",
        "        for j in range(num_nodes-1):\n",
        "            P_x[i] = P_x[i] + count_paths_dfs(adj_matrix_G, adjacent_nodes_list[i], j)\n",
        "\n",
        "        for j in range(len(V)-1):\n",
        "            P_x[i] = P_x[i] - count_paths_dfs(adj_matrix_G, adjacent_nodes_list[i], V[j])\n",
        "\n",
        "\n",
        "    #emergence = np.sum(P_x)\n",
        "    #emergence = torch.stack(adjacent_nodes_list, P_x)\n",
        "    return adjacent_nodes_list, P_x\n"
      ],
      "metadata": {
        "id": "teWmWS4rLhnL"
      },
      "execution_count": null,
      "outputs": []
    },
    {
      "cell_type": "code",
      "source": [
        "V0 = torch.cat((zero_neurons_hidden1[0], zero_neurons_hidden2[0]+250),dim=0).tolist()\n",
        "#Emergence_path_0 = emergence_compute_path(adj_matrix_G, V0)\n",
        "adjacent_nodes_set = set()\n",
        "for node in V:\n",
        "    # Find the indices of adjacent nodes where there's a connection\n",
        "    adjacent_nodes = np.where(adj_matrix_G[node, :] != 0)[0]\n",
        "    # adjacent_nodes = np.where(adj_matrix_G[:, node] != 0)[0]\n",
        "    #adjacent_nodes_list.append(adjacent_nodes)\n",
        "    adjacent_nodes_set.update(adjacent_nodes)\n",
        "\n",
        "adjacent_nodes_list = sorted(list(adjacent_nodes_set))\n",
        "\n",
        "num_nodes = adj_matrix_G.shape[0]\n",
        "\n",
        "\n",
        "\n",
        "P_x = [0]*len(adjacent_nodes_list)\n",
        "\n",
        "for i in range(len(adjacent_nodes_list)-1):\n",
        "    for j in range(num_nodes-1):\n",
        "        P_x[i] = P_x[i] + count_paths_dfs(adj_matrix_G, adjacent_nodes_list[i], j)\n",
        "\n",
        "    for j in range(len(V)-1):\n",
        "        P_x[i] = P_x[i] - count_paths_dfs(adj_matrix_G, adjacent_nodes_list[i], V[j])\n",
        "\n",
        "\n",
        "#emergence = np.sum(P_x)\n",
        "emergence = stack(adjacent_nodes_list, P_x)"
      ],
      "metadata": {
        "colab": {
          "base_uri": "https://localhost:8080/",
          "height": 250
        },
        "id": "H-kBhnlDLlt2",
        "outputId": "cff48d7c-1b6a-4e6d-ef7b-1f1733f617cd"
      },
      "execution_count": null,
      "outputs": [
        {
          "output_type": "error",
          "ename": "NameError",
          "evalue": "ignored",
          "traceback": [
            "\u001b[0;31m---------------------------------------------------------------------------\u001b[0m",
            "\u001b[0;31mNameError\u001b[0m                                 Traceback (most recent call last)",
            "\u001b[0;32m<ipython-input-27-7444bc4238e3>\u001b[0m in \u001b[0;36m<cell line: 4>\u001b[0;34m()\u001b[0m\n\u001b[1;32m      2\u001b[0m \u001b[0;31m#Emergence_path_0 = emergence_compute_path(adj_matrix_G, V0)\u001b[0m\u001b[0;34m\u001b[0m\u001b[0;34m\u001b[0m\u001b[0m\n\u001b[1;32m      3\u001b[0m \u001b[0madjacent_nodes_set\u001b[0m \u001b[0;34m=\u001b[0m \u001b[0mset\u001b[0m\u001b[0;34m(\u001b[0m\u001b[0;34m)\u001b[0m\u001b[0;34m\u001b[0m\u001b[0;34m\u001b[0m\u001b[0m\n\u001b[0;32m----> 4\u001b[0;31m \u001b[0;32mfor\u001b[0m \u001b[0mnode\u001b[0m \u001b[0;32min\u001b[0m \u001b[0mV\u001b[0m\u001b[0;34m:\u001b[0m\u001b[0;34m\u001b[0m\u001b[0;34m\u001b[0m\u001b[0m\n\u001b[0m\u001b[1;32m      5\u001b[0m     \u001b[0;31m# Find the indices of adjacent nodes where there's a connection\u001b[0m\u001b[0;34m\u001b[0m\u001b[0;34m\u001b[0m\u001b[0m\n\u001b[1;32m      6\u001b[0m     \u001b[0madjacent_nodes\u001b[0m \u001b[0;34m=\u001b[0m \u001b[0mnp\u001b[0m\u001b[0;34m.\u001b[0m\u001b[0mwhere\u001b[0m\u001b[0;34m(\u001b[0m\u001b[0madj_matrix_G\u001b[0m\u001b[0;34m[\u001b[0m\u001b[0mnode\u001b[0m\u001b[0;34m,\u001b[0m \u001b[0;34m:\u001b[0m\u001b[0;34m]\u001b[0m \u001b[0;34m!=\u001b[0m \u001b[0;36m0\u001b[0m\u001b[0;34m)\u001b[0m\u001b[0;34m[\u001b[0m\u001b[0;36m0\u001b[0m\u001b[0;34m]\u001b[0m\u001b[0;34m\u001b[0m\u001b[0;34m\u001b[0m\u001b[0m\n",
            "\u001b[0;31mNameError\u001b[0m: name 'V' is not defined"
          ]
        }
      ]
    },
    {
      "cell_type": "code",
      "source": [
        "V0 = torch.cat((zero_neurons_hidden1[0], zero_neurons_hidden2[0]+250),dim=0).tolist()\n",
        "Emergence_path_0 = emergence_compute_path(adj_matrix_G, V0)"
      ],
      "metadata": {
        "id": "yKL1KobJQN9t"
      },
      "execution_count": null,
      "outputs": []
    },
    {
      "cell_type": "code",
      "source": [
        "list1 = Emergence_path_0[0]\n",
        "list2 = Emergence_path_0[1]\n",
        "list3 = range(250,250+197)\n",
        "#ind = [item-250 for item in list1 if item in list3 if list2[item]==10]\n",
        "ind = [item-250 for item in list1 if list2[item-250]==9]\n",
        "#Emergence_path_0[1]\n",
        "\n",
        "\n",
        "\n",
        "\n",
        "\n"
      ],
      "metadata": {
        "id": "QfEhs3_iaZBl"
      },
      "execution_count": null,
      "outputs": []
    },
    {
      "cell_type": "code",
      "source": [
        "diff = torch.mean(data[0][\"fc2.weight\"] - data['global'][\"fc2.weight\"],1)\n",
        "#ind = zero_neurons_hidden2[0] - zero_neurons_hidden2[2]\n",
        "list1 = zero_neurons_hidden2[0].tolist()\n",
        "list2 = zero_neurons_hidden2[2].tolist()\n",
        "ind1 = [item for item in ind if item not in list2]\n",
        "#ind = zero_neurons_hidden2[1]\n",
        "plt.plot(diff)\n",
        "plt.plot(ind1, diff[ind1], marker=\"o\", markersize=1, markeredgecolor=\"red\", markerfacecolor=\"green\")"
      ],
      "metadata": {
        "id": "9kNgUwAkQh_X"
      },
      "execution_count": null,
      "outputs": []
    },
    {
      "cell_type": "code",
      "source": [
        "ind"
      ],
      "metadata": {
        "id": "3GOVqjv-WwA0"
      },
      "execution_count": null,
      "outputs": []
    },
    {
      "cell_type": "code",
      "source": [
        "V1"
      ],
      "metadata": {
        "id": "TZLHoe_MXPMl"
      },
      "execution_count": null,
      "outputs": []
    },
    {
      "cell_type": "code",
      "source": [
        "# def emergence\n",
        "\n",
        "# Now we compute the emergence!!!\n",
        "\n",
        "def count_paths_dfs(adj_matrix, start, end, visited=None):\n",
        "    if visited is None:\n",
        "        visited = set()\n",
        "\n",
        "    # If start is the end, we've found a path\n",
        "    if start == end:\n",
        "        return 1\n",
        "\n",
        "    # Mark the current node as visited\n",
        "    visited.add(start)\n",
        "\n",
        "    path_count = 0\n",
        "    # Go through the adjacency matrix row for the start node\n",
        "    for neighbor, is_connected in enumerate(adj_matrix[start]):\n",
        "        # If there's a connection and the neighbor hasn't been visited\n",
        "        if is_connected and neighbor not in visited:\n",
        "            path_count += count_paths_dfs(adj_matrix, neighbor, end, visited.copy())\n",
        "\n",
        "    # Return the total path count\n",
        "    return path_count\n",
        "\n",
        "def emergence_compute_NN(adj_matrix_G,zero_neurons_hidden):\n",
        "    #l  = len(zero_neurons_hidden)\n",
        "    emergence = 0\n",
        "    l0 = len(zero_neurons_hidden[0])\n",
        "    l1 = len(zero_neurons_hidden[1])\n",
        "    l2 = len(zero_neurons_hidden[2])\n",
        "    l3 = len(zero_neurons_hidden[3])\n",
        "    emergence = emergence + l0*(256-l1) + l0*(256-l1)*(256-l2)+l0*(256-l1)*(256-l2)*(128-l3) + l1*(256-l2) + l1*(256-l2)*(128-l3) + l2*(128-l3) + l3\n",
        "    return emergence\n",
        "\n"
      ],
      "metadata": {
        "id": "j8BID72yXS-R"
      },
      "execution_count": null,
      "outputs": []
    },
    {
      "cell_type": "code",
      "source": [
        "import torch\n",
        "from torchvision import datasets, transforms\n",
        "from torch.utils.data import DataLoader\n",
        "\n",
        "# Define the transformation to normalize the data\n",
        "transform = transforms.Compose([\n",
        "    transforms.ToTensor(),\n",
        "    transforms.Normalize((0.1307,), (0.3081,))\n",
        "])\n",
        "\n",
        "# Load the MNIST training dataset\n",
        "train_dataset = datasets.MNIST('./data', train=True, download=True, transform=transform)\n",
        "\n",
        "# Create a DataLoader for the training dataset\n",
        "train_loader = DataLoader(train_dataset, batch_size=64, shuffle=True)\n",
        "\n",
        "# Now, train_loader can be used as the input_data for your network\n",
        "input_data = train_loader\n"
      ],
      "metadata": {
        "id": "-iWah4ZovXVb"
      },
      "execution_count": 165,
      "outputs": []
    },
    {
      "cell_type": "code",
      "source": [
        "import torch\n",
        "import torch.nn as nn\n",
        "import torch.nn.functional as F\n",
        "from torchvision import datasets, transforms\n",
        "from torch.utils.data import DataLoader\n",
        "\n",
        "# Step 1: Load the MNIST Dataset\n",
        "transform = transforms.Compose([\n",
        "    transforms.ToTensor(),\n",
        "    transforms.Normalize((0.1307,), (0.3081,))\n",
        "])\n",
        "\n",
        "train_dataset = datasets.MNIST('./data', train=True, download=True, transform=transform)\n",
        "train_loader = DataLoader(train_dataset, batch_size=64, shuffle=True)\n",
        "\n",
        "# Step 2: Define the Neural Network\n",
        "class Net(nn.Module):\n",
        "    def __init__(self):\n",
        "        super(Net, self).__init__()\n",
        "        # Define layers\n",
        "        self.fc1 = nn.Linear(28*28, 392)\n",
        "        self.fc2 = nn.Linear(392, 196)\n",
        "        self.fc3 = nn.Linear(196, 98)\n",
        "        self.fc4 = nn.Linear(98, 48)\n",
        "        self.fc5 = nn.Linear(48, 24)\n",
        "        self.output_layer = torch.nn.Linear(24, 10)\n",
        "        # Add more layers as needed\n",
        "\n",
        "        # Store activations\n",
        "        self.activations = []\n",
        "\n",
        "    def forward(self, x):\n",
        "        x = x.view(-1, 28*28)\n",
        "\n",
        "        # Capture activations\n",
        "        x = F.relu(self.fc1(x))\n",
        "        self.activations.append(x.clone())\n",
        "\n",
        "        x = F.relu(self.fc2(x))\n",
        "        self.activations.append(x.clone())\n",
        "\n",
        "        x = F.relu(self.fc3(x))\n",
        "        self.activations.append(x.clone())\n",
        "\n",
        "        x = F.relu(self.fc4(x))\n",
        "        self.activations.append(x.clone())\n",
        "\n",
        "        x = F.relu(self.fc5(x))\n",
        "        self.activations.append(x.clone())\n",
        "\n",
        "        x = F.softmax(self.output_layer(x))\n",
        "        self.activations.append(x.clone())\n",
        "\n",
        "\n",
        "        # Continue for additional layers\n",
        "        # ...\n",
        "\n",
        "        return x\n",
        "\n",
        "net = Net()\n",
        "\n",
        "# Step 3: Initialize with Your Provided Weights\n",
        "# Example:\n",
        "#your_weight_matrix_for_fc1 =  data[0][\"fc1.weight\"]\n",
        "#net.fc1.weight.data = torch.tensor(your_weight_matrix_for_fc1)\n",
        "net.fc1.weight.data = data[0][\"fc1.weight\"]\n",
        "net.fc1.bias.data = data[0][\"fc1.bias\"]\n",
        "\n",
        "net.fc2.weight.data = data[0][\"fc2.weight\"]\n",
        "net.fc2.bias.data = data[0][\"fc2.bias\"]\n",
        "\n",
        "net.fc3.weight.data = data[0][\"fc3.weight\"]\n",
        "net.fc3.bias.data = data[0][\"fc3.bias\"]\n",
        "\n",
        "net.fc4.weight.data = data[0][\"fc4.weight\"]\n",
        "net.fc4.bias.data = data[0][\"fc4.bias\"]\n",
        "\n",
        "net.fc5.weight.data = data[0][\"fc5.weight\"]\n",
        "net.fc5.bias.data = data[0][\"fc5.bias\"]\n",
        "\n",
        "net.fc5.weight.data = data[0][\"fc5.weight\"]\n",
        "net.fc5.bias.data = data[0][\"fc5.bias\"]\n",
        "\n",
        "net.output_layer.weight.data = data[0][\"classifier.weight\"]\n",
        "net.output_layer.bias.data = data[0][\"classifier.bias\"]\n",
        "\n",
        "# net.fc2.weight.data = torch.tensor(your_weight_matrix_for_fc2)\n",
        "# ... continue for all layers ...\n",
        "\n",
        "# Step 4: Process the MNIST Dataset\n",
        "for Data, target in train_loader:\n",
        "    net.activations = []  # Reset activations\n",
        "    output = net(Data)\n",
        "\n",
        "    # Now net.activations contains the activations for this batch\n",
        "    # Process or save these activations as needed\n",
        "\n",
        "    # Example: Print the activations of the first layer for the first image in the batch\n",
        "    #print(net.activations[0][0])  # Activations of the first layer for the first image\n",
        "    #break  # Remove this break to process the entire dataset\n",
        "len(net.activations[0][0])"
      ],
      "metadata": {
        "colab": {
          "base_uri": "https://localhost:8080/"
        },
        "id": "GEE47Iwvusf6",
        "outputId": "fc673840-d0fa-4911-c44b-e257025e70f8"
      },
      "execution_count": 155,
      "outputs": [
        {
          "output_type": "stream",
          "name": "stderr",
          "text": [
            "<ipython-input-155-8326943397f4>:51: UserWarning: Implicit dimension choice for softmax has been deprecated. Change the call to include dim=X as an argument.\n",
            "  x = F.softmax(self.output_layer(x))\n"
          ]
        },
        {
          "output_type": "execute_result",
          "data": {
            "text/plain": [
              "392"
            ]
          },
          "metadata": {},
          "execution_count": 155
        }
      ]
    },
    {
      "cell_type": "code",
      "source": [
        "test_dataset = datasets.MNIST('./data', train=False, transform=transform)\n",
        "test_loader = DataLoader(test_dataset, batch_size=1000, shuffle=True)\n"
      ],
      "metadata": {
        "id": "pKNC-ya7UhBo"
      },
      "execution_count": 166,
      "outputs": []
    },
    {
      "cell_type": "code",
      "source": [
        "\n",
        "correct = 0\n",
        "total = 0\n",
        "with torch.no_grad():\n",
        "    for data, target in test_loader:\n",
        "        outputs = net(data)\n",
        "        _, predicted = torch.max(outputs.data, 1)\n",
        "        total += target.size(0)\n",
        "        correct += (predicted == target).sum().item()\n",
        "\n",
        "accuracy = 100 * correct / total\n",
        "print(f'Accuracy of the network on the 10000 test images: {accuracy}%')\n"
      ],
      "metadata": {
        "colab": {
          "base_uri": "https://localhost:8080/"
        },
        "id": "qf5tyFWbUXV1",
        "outputId": "035ed7b8-fcf1-441c-d0d2-1ba55c1b82ce"
      },
      "execution_count": 167,
      "outputs": [
        {
          "output_type": "stream",
          "name": "stderr",
          "text": [
            "<ipython-input-155-8326943397f4>:51: UserWarning: Implicit dimension choice for softmax has been deprecated. Change the call to include dim=X as an argument.\n",
            "  x = F.softmax(self.output_layer(x))\n"
          ]
        },
        {
          "output_type": "stream",
          "name": "stdout",
          "text": [
            "Accuracy of the network on the 10000 test images: 49.29%\n"
          ]
        }
      ]
    },
    {
      "cell_type": "code",
      "source": [
        "len(net.activations[0])"
      ],
      "metadata": {
        "colab": {
          "base_uri": "https://localhost:8080/"
        },
        "id": "ADYBkPVUSJKs",
        "outputId": "cec9c899-ca61-4e7a-a7db-cf2c96dd420e"
      },
      "execution_count": 169,
      "outputs": [
        {
          "output_type": "execute_result",
          "data": {
            "text/plain": [
              "32"
            ]
          },
          "metadata": {},
          "execution_count": 169
        }
      ]
    },
    {
      "cell_type": "code",
      "source": [
        "len(torch.mean(net.activations[0],0))"
      ],
      "metadata": {
        "colab": {
          "base_uri": "https://localhost:8080/"
        },
        "id": "glmKc7lgWWfn",
        "outputId": "6761095e-c841-4b0c-f977-299d46f041f7"
      },
      "execution_count": 170,
      "outputs": [
        {
          "output_type": "execute_result",
          "data": {
            "text/plain": [
              "392"
            ]
          },
          "metadata": {},
          "execution_count": 170
        }
      ]
    },
    {
      "cell_type": "code",
      "source": [
        "import matplotlib.pyplot as plt\n",
        "plt.plot(torch.mean(net.activations[1],0).detach().numpy())"
      ],
      "metadata": {
        "colab": {
          "base_uri": "https://localhost:8080/",
          "height": 448
        },
        "id": "cb3f1KRhNBSD",
        "outputId": "67d5655e-e22a-4fd4-8158-279c0ffc722d"
      },
      "execution_count": 171,
      "outputs": [
        {
          "output_type": "execute_result",
          "data": {
            "text/plain": [
              "[<matplotlib.lines.Line2D at 0x7e4669b323b0>]"
            ]
          },
          "metadata": {},
          "execution_count": 171
        },
        {
          "output_type": "display_data",
          "data": {
            "text/plain": [
              "<Figure size 640x480 with 1 Axes>"
            ],
            "image/png": "[encoded data removed]"
          },
          "metadata": {}
        }
      ]
    },
    {
      "cell_type": "code",
      "source": [
        "zero_neurons_hidden = [[] for _ in range(6)]"
      ],
      "metadata": {
        "id": "sZf4jiD7Mr__"
      },
      "execution_count": 180,
      "outputs": []
    },
    {
      "cell_type": "code",
      "source": [
        "ave_activation0 = torch.mean(net.activations[0],0)\n",
        "#plt.plot(ave_activation0)\n",
        "zero_neurons_hidden[0] = torch.where(torch.absolute(ave_activation0) <= 0.001)[0]\n",
        "zero_neurons_hidden[0]"
      ],
      "metadata": {
        "colab": {
          "base_uri": "https://localhost:8080/"
        },
        "id": "wJP39KJgw-Mb",
        "outputId": "425e46e0-059c-40e8-9117-980c78434512"
      },
      "execution_count": 173,
      "outputs": [
        {
          "output_type": "execute_result",
          "data": {
            "text/plain": [
              "tensor([ 18, 388])"
            ]
          },
          "metadata": {},
          "execution_count": 173
        }
      ]
    },
    {
      "cell_type": "code",
      "source": [
        "ave_activation1 = torch.mean(net.activations[1],0)\n",
        "#plt.plot(ave_activation0)\n",
        "zero_neurons_hidden[1] = torch.where(torch.absolute(ave_activation1) <= 0.001)[0]\n",
        "zero_neurons_hidden[1]"
      ],
      "metadata": {
        "colab": {
          "base_uri": "https://localhost:8080/"
        },
        "id": "FDpZSbGklTYT",
        "outputId": "7386ca43-55c2-4819-b632-786a030ee83d"
      },
      "execution_count": 175,
      "outputs": [
        {
          "output_type": "execute_result",
          "data": {
            "text/plain": [
              "tensor([  7,  10,  31,  88, 129, 140, 141, 149, 159, 166, 173, 178, 183, 185])"
            ]
          },
          "metadata": {},
          "execution_count": 175
        }
      ]
    },
    {
      "cell_type": "code",
      "source": [
        "ave_activation0 = torch.mean(net.activations[0],0)\n",
        "#plt.plot(ave_activation0)\n",
        "zero_neurons_hidden[0] = torch.where(torch.absolute(ave_activation0) <= 0.001)[0]\n",
        "print(zero_neurons_hidden[0])\n",
        "ve_activation1 = torch.mean(net.activations[1],0)\n",
        "#plt.plot(ave_activation0)\n",
        "zero_neurons_hidden[1] = torch.where(torch.absolute(ave_activation1) <= 0.001)[0]\n",
        "print(zero_neurons_hidden[1])\n",
        "ave_activation2 = torch.mean(net.activations[2],0)\n",
        "#plt.plot(ave_activation0)\n",
        "zero_neurons_hidden[2] = torch.where(torch.absolute(ave_activation2) <= 0.001)[0]\n",
        "print(zero_neurons_hidden[2])\n",
        "ave_activation3 = torch.mean(net.activations[3],0)\n",
        "#plt.plot(ave_activation0)\n",
        "zero_neurons_hidden[3] = torch.where(torch.absolute(ave_activation3) <= 0.001)[0]\n",
        "print(zero_neurons_hidden[3])\n",
        "ave_activation4= torch.mean(net.activations[4],0)\n",
        "#plt.plot(ave_activation0)\n",
        "zero_neurons_hidden[4] = torch.where(torch.absolute(ave_activation4) <= 0.001)[0]\n",
        "print(zero_neurons_hidden[4])\n",
        "ave_activation5 = torch.mean(net.activations[5],0)\n",
        "#plt.plot(ave_activation0)\n",
        "zero_neurons_hidden[5] = torch.where(torch.absolute(ave_activation5) <= 0.001)[0]\n",
        "print(zero_neurons_hidden[5])"
      ],
      "metadata": {
        "colab": {
          "base_uri": "https://localhost:8080/"
        },
        "id": "MTcwv4gJlXZe",
        "outputId": "a2ea3384-d197-4233-e838-fbe3450fc9dc"
      },
      "execution_count": 182,
      "outputs": [
        {
          "output_type": "stream",
          "name": "stdout",
          "text": [
            "tensor([ 18, 388])\n",
            "tensor([  7,  10,  31,  88, 129, 140, 141, 149, 159, 166, 173, 178, 183, 185])\n",
            "tensor([ 1, 11, 27, 34, 37, 43, 44, 46, 51, 52, 56, 60, 67, 86, 91, 97])\n",
            "tensor([ 1,  7, 17, 20, 28, 36, 40, 41, 44, 45])\n",
            "tensor([ 4,  6, 17, 21])\n",
            "tensor([5, 6, 7, 8, 9])\n"
          ]
        }
      ]
    },
    {
      "cell_type": "code",
      "source": [],
      "metadata": {
        "id": "oy6rnYqWlbM-"
      },
      "execution_count": null,
      "outputs": []
    },
    {
      "cell_type": "code",
      "source": [
        "layer_sizes"
      ],
      "metadata": {
        "colab": {
          "base_uri": "https://localhost:8080/"
        },
        "id": "zLWXylBnwHpW",
        "outputId": "4d850006-6794-4fa6-e1ba-ffadc6f13da3"
      },
      "execution_count": null,
      "outputs": [
        {
          "output_type": "execute_result",
          "data": {
            "text/plain": [
              "[392, 196, 98, 48, 24]"
            ]
          },
          "metadata": {},
          "execution_count": 46
        }
      ]
    },
    {
      "cell_type": "code",
      "source": [
        "import pickle\n",
        "import torch\n",
        "\n",
        "\n",
        "file_path = \"\"\n",
        "#data = pickle.load(open(\"/home/chenyang/emergence_ml/FL-code/sync_framework/logs/mnist/seed4321/alpha0.0.fedavg.tc2.sc2.u0.pkl\",\"rb\"))\n",
        "#data = pickle.load(open(\"/content/alpha0.0.fedavg.tc2.sc2.u0.pkl\",\"rb\"))\n",
        "data = pickle.load(open(\"/content/data/weights_with_split.pkl\",\"rb\"))\n",
        "\n",
        "\n",
        "\n",
        "num_layer1 = data[0][\"fc1.bias\"].size()\n",
        "num_layer2 = data[0][\"fc2.bias\"].size()\n",
        "num_layer3 = data[0][\"fc3.bias\"].size()\n",
        "num_layer4 = data[0][\"fc4.bias\"].size()\n",
        "num_layer5 = data[0][\"fc5.bias\"].size()\n",
        "\n",
        "print(f\"The number of No.1 layer is {num_layer1}\")\n",
        "print(f\"The number of No.2 second layer is {num_layer2}\")\n",
        "print(f\"The number of No.3 second layer is {num_layer3}\")\n",
        "print(f\"The number of No.4 second layer is {num_layer4}\")\n",
        "print(f\"The number of No.5 second layer is {num_layer5}\")\n",
        "\n"
      ],
      "metadata": {
        "colab": {
          "base_uri": "https://localhost:8080/"
        },
        "id": "iTxgXvNnyaz9",
        "outputId": "57c679b5-3d14-4b8b-b847-33e256fe2949"
      },
      "execution_count": 105,
      "outputs": [
        {
          "output_type": "stream",
          "name": "stdout",
          "text": [
            "The number of No.1 layer is torch.Size([392])\n",
            "The number of No.2 second layer is torch.Size([196])\n",
            "The number of No.3 second layer is torch.Size([98])\n",
            "The number of No.4 second layer is torch.Size([48])\n",
            "The number of No.5 second layer is torch.Size([24])\n"
          ]
        }
      ]
    },
    {
      "cell_type": "code",
      "source": [
        "# define the network adj matrix\n",
        "def generate_adjacency_matrix(layer_sizes):\n",
        "    \"\"\"\n",
        "    Generate the adjacency matrix for a feed-forward network.\n",
        "\n",
        "    Parameters:\n",
        "    layer_sizes (list): A list of integers indicating the size of each layer.\n",
        "\n",
        "    Returns:\n",
        "    np.array: An adjacency matrix of the feed-forward network.\n",
        "    \"\"\"\n",
        "    total_nodes = sum(layer_sizes)\n",
        "    adjacency_matrix = np.zeros((total_nodes, total_nodes))\n",
        "\n",
        "    # Starting index of the first layer is 0\n",
        "    start_index = 0\n",
        "\n",
        "    # Iterate over the layers and fill the adjacency matrix\n",
        "    for i in range(len(layer_sizes) - 1):\n",
        "        # Size of the current layer and the next layer\n",
        "        current_layer_size = layer_sizes[i]\n",
        "        next_layer_size = layer_sizes[i + 1]\n",
        "\n",
        "        # Indices of the next layer\n",
        "        end_index = start_index + current_layer_size\n",
        "        next_layer_start_index = end_index\n",
        "        next_layer_end_index = next_layer_start_index + next_layer_size\n",
        "\n",
        "        # Set the connections between current layer and next layer to 1\n",
        "        for j in range(start_index, end_index):\n",
        "            adjacency_matrix[j, next_layer_start_index:next_layer_end_index] = 1\n",
        "\n",
        "        # Update the start index for the next iteration\n",
        "        start_index = end_index\n",
        "\n",
        "    return adjacency_matrix"
      ],
      "metadata": {
        "id": "05L0oeaVoHep"
      },
      "execution_count": 198,
      "outputs": []
    },
    {
      "cell_type": "code",
      "source": [
        "# define the layer size\n",
        "adj_matrix_G = generate_adjacency_matrix(layer_sizes)"
      ],
      "metadata": {
        "id": "wK6_XqBJoMRQ"
      },
      "execution_count": 185,
      "outputs": []
    },
    {
      "cell_type": "code",
      "source": [
        "# def emergence\n",
        "\n",
        "# Now we compute the emergence!!!\n",
        "\n",
        "def count_paths_dfs(adj_matrix, start, end, visited=None):\n",
        "    if visited is None:\n",
        "        visited = set()\n",
        "\n",
        "    # If start is the end, we've found a path\n",
        "    if start == end:\n",
        "        return 1\n",
        "\n",
        "    # Mark the current node as visited\n",
        "    visited.add(start)\n",
        "\n",
        "    path_count = 0\n",
        "    # Go through the adjacency matrix row for the start node\n",
        "    for neighbor, is_connected in enumerate(adj_matrix[start]):\n",
        "        # If there's a connection and the neighbor hasn't been visited\n",
        "        if is_connected and neighbor not in visited:\n",
        "            path_count += count_paths_dfs(adj_matrix, neighbor, end, visited.copy())\n",
        "\n",
        "    # Return the total path count\n",
        "    return path_count\n",
        "\n",
        "def emergence_compute_NN(adj_matrix_G,zero_neurons_hidden,layer_sizes):\n",
        "    #l  = len(zero_neurons_hidden)\n",
        "    emergence = 0\n",
        "    l0 = len(zero_neurons_hidden[0])\n",
        "    l1 = len(zero_neurons_hidden[1])\n",
        "    l2 = len(zero_neurons_hidden[2])\n",
        "    l3 = len(zero_neurons_hidden[3])\n",
        "    l4 = len(zero_neurons_hidden[4])\n",
        "    # paths in the first layer\n",
        "    emergence = emergence + l0*(layer_sizes[1]-l1) + l0*(layer_sizes[1]-l1)*(layer_sizes[2]-l2)+l0*(layer_sizes[1]-l1)*(layer_sizes[2]-l2)*(layer_sizes[3]-l3) + l0*(layer_sizes[1]-l1)*(layer_sizes[2]-l2)*(layer_sizes[3]-l3)*(layer_sizes[4]-l4)\n",
        "    #paths in the second layer\n",
        "    emergence = emergence + l1*(layer_sizes[2]-l2)+l1*(layer_sizes[2]-l2)*(layer_sizes[3]-l3) + l1*(layer_sizes[2]-l2)*(layer_sizes[3]-l3)*(layer_sizes[4]-l4)\n",
        "    #paths in the third layer\n",
        "    emergence = emergence + l2*(layer_sizes[3]-l3)+ l2*(layer_sizes[3]-l3)*(layer_sizes[4]-l4)\n",
        "    #paths in the fourth layer\n",
        "    emergence = emergence + l3*(layer_sizes[4]-l4)\n",
        "    #pths in the fifth layer\n",
        "    emergence = emergence + l4\n",
        "    return emergence\n",
        "\n",
        "def emergence_compute_NN_layers(adj_matrix_G,zero_neurons_hidden,layer_sizes):\n",
        "    #l  = len(zero_neurons_hidden)\n",
        "    emergence = [0]*len(zero_neurons_hidden)\n",
        "    l0 = len(zero_neurons_hidden[0])\n",
        "    l1 = len(zero_neurons_hidden[1])\n",
        "    l2 = len(zero_neurons_hidden[2])\n",
        "    l3 = len(zero_neurons_hidden[3])\n",
        "    l4 = len(zero_neurons_hidden[4])\n",
        "    # paths in the first layer\n",
        "    emergence[0] = l0*(layer_sizes[1]-l1) + l0*(layer_sizes[1]-l1)*(layer_sizes[2]-l2)+l0*(layer_sizes[1]-l1)*(layer_sizes[2]-l2)*(layer_sizes[3]-l3) + l0*(layer_sizes[1]-l1)*(layer_sizes[2]-l2)*(layer_sizes[3]-l3)*(layer_sizes[4]-l4)\n",
        "    #paths in the second layer\n",
        "    emergence[1] = l1*(layer_sizes[2]-l2)+l1*(layer_sizes[2]-l2)*(layer_sizes[3]-l3) + l1*(layer_sizes[2]-l2)*(layer_sizes[3]-l3)*(layer_sizes[4]-l4)\n",
        "    #paths in the third layer\n",
        "    emergence[2] = l2*(layer_sizes[3]-l3)+ l2*(layer_sizes[3]-l3)*(layer_sizes[4]-l4)\n",
        "    #paths in the fourth layer\n",
        "    emergence[3] = l3*(layer_sizes[4]-l4)\n",
        "    #pths in the fifth layer\n",
        "    emergence[4] = l4\n",
        "    return emergence\n"
      ],
      "metadata": {
        "id": "HyZ4NOqjoNUz"
      },
      "execution_count": 196,
      "outputs": []
    },
    {
      "cell_type": "code",
      "source": [
        "layer_sizes"
      ],
      "metadata": {
        "colab": {
          "base_uri": "https://localhost:8080/"
        },
        "id": "LgpNHA4Fo-Yw",
        "outputId": "c08a863e-fe41-43fc-b2be-c3ae8916b5e8"
      },
      "execution_count": 189,
      "outputs": [
        {
          "output_type": "execute_result",
          "data": {
            "text/plain": [
              "[392, 196, 98, 48, 24]"
            ]
          },
          "metadata": {},
          "execution_count": 189
        }
      ]
    },
    {
      "cell_type": "code",
      "source": [
        "emergence = emergence_compute_NN_layers(adj_matrix_G,zero_neurons_hidden,layer_sizes)\n",
        "emergence"
      ],
      "metadata": {
        "colab": {
          "base_uri": "https://localhost:8080/"
        },
        "id": "Cpfk8iQnoQ0b",
        "outputId": "4b0cd1dc-8a13-482f-d375-c26a54ba16fc"
      },
      "execution_count": 199,
      "outputs": [
        {
          "output_type": "execute_result",
          "data": {
            "text/plain": [
              "[23848916, 917252, 12768, 200, 4, 0]"
            ]
          },
          "metadata": {},
          "execution_count": 199
        }
      ]
    },
    {
      "cell_type": "code",
      "source": [
        "import torch\n",
        "import torch.nn as nn\n",
        "import torch.nn.functional as F\n",
        "from torchvision import datasets, transforms\n",
        "from torch.utils.data import DataLoader\n",
        "\n",
        "file_path = \"\"\n",
        "#data = pickle.load(open(\"/home/chenyang/emergence_ml/FL-code/sync_framework/logs/mnist/seed4321/alpha0.0.fedavg.tc2.sc2.u0.pkl\",\"rb\"))\n",
        "#data = pickle.load(open(\"/content/alpha0.0.fedavg.tc2.sc2.u0.pkl\",\"rb\"))\n",
        "data = pickle.load(open(\"/content/data/weights_with_split.pkl\",\"rb\"))\n",
        "\n",
        "\n",
        "# Step 1: Load the MNIST Dataset\n",
        "transform = transforms.Compose([\n",
        "    transforms.ToTensor(),\n",
        "    transforms.Normalize((0.1307,), (0.3081,))\n",
        "])\n",
        "\n",
        "train_dataset = datasets.MNIST('./data', train=True, download=True, transform=transform)\n",
        "train_loader = DataLoader(train_dataset, batch_size=64, shuffle=True)\n",
        "\n",
        "# Step 2: Define the Neural Network\n",
        "class Net(nn.Module):\n",
        "    def __init__(self):\n",
        "        super(Net, self).__init__()\n",
        "        # Define layers\n",
        "        self.fc1 = nn.Linear(28*28, 392)\n",
        "        self.fc2 = nn.Linear(392, 196)\n",
        "        self.fc3 = nn.Linear(196, 98)\n",
        "        self.fc4 = nn.Linear(98, 48)\n",
        "        self.fc5 = nn.Linear(48, 24)\n",
        "        self.output_layer = torch.nn.Linear(24, 10)\n",
        "        # Add more layers as needed\n",
        "\n",
        "        # Store activations\n",
        "        self.activations = []\n",
        "\n",
        "    def forward(self, x):\n",
        "        x = x.view(-1, 28*28)\n",
        "\n",
        "        # Capture activations\n",
        "        x = F.relu(self.fc1(x))\n",
        "        self.activations.append(x.clone())\n",
        "\n",
        "        x = F.relu(self.fc2(x))\n",
        "        self.activations.append(x.clone())\n",
        "\n",
        "        x = F.relu(self.fc3(x))\n",
        "        self.activations.append(x.clone())\n",
        "\n",
        "        x = F.relu(self.fc4(x))\n",
        "        self.activations.append(x.clone())\n",
        "\n",
        "        x = F.relu(self.fc5(x))\n",
        "        self.activations.append(x.clone())\n",
        "\n",
        "        x = F.softmax(self.output_layer(x))\n",
        "        self.activations.append(x.clone())\n",
        "\n",
        "\n",
        "        # Continue for additional layers\n",
        "        # ...\n",
        "\n",
        "        return x\n",
        "\n",
        "net = Net()\n",
        "\n",
        "# Step 3: Initialize with Your Provided Weights\n",
        "# Example:\n",
        "#your_weight_matrix_for_fc1 =  data[0][\"fc1.weight\"]\n",
        "#net.fc1.weight.data = torch.tensor(your_weight_matrix_for_fc1)\n",
        "net.fc1.weight.data = data[1][\"fc1.weight\"]\n",
        "net.fc1.bias.data = data[1][\"fc1.bias\"]\n",
        "\n",
        "net.fc2.weight.data = data[1][\"fc2.weight\"]\n",
        "net.fc2.bias.data = data[1][\"fc2.bias\"]\n",
        "\n",
        "net.fc3.weight.data = data[1][\"fc3.weight\"]\n",
        "net.fc3.bias.data = data[1][\"fc3.bias\"]\n",
        "\n",
        "net.fc4.weight.data = data[1][\"fc4.weight\"]\n",
        "net.fc4.bias.data = data[1][\"fc4.bias\"]\n",
        "\n",
        "net.fc5.weight.data = data[1][\"fc5.weight\"]\n",
        "net.fc5.bias.data = data[1][\"fc5.bias\"]\n",
        "\n",
        "net.fc5.weight.data = data[1][\"fc5.weight\"]\n",
        "net.fc5.bias.data = data[1][\"fc5.bias\"]\n",
        "\n",
        "net.output_layer.weight.data = data[1][\"classifier.weight\"]\n",
        "net.output_layer.bias.data = data[1][\"classifier.bias\"]\n",
        "\n",
        "# net.fc2.weight.data = torch.tensor(your_weight_matrix_for_fc2)\n",
        "# ... continue for all layers ...\n",
        "\n",
        "# Step 4: Process the MNIST Dataset\n",
        "for Data, target in train_loader:\n",
        "    net.activations = []  # Reset activations\n",
        "    output = net(Data)\n",
        "\n",
        "    # Now net.activations contains the activations for this batch\n",
        "    # Process or save these activations as needed\n",
        "\n",
        "    # Example: Print the activations of the first layer for the first image in the batch\n",
        "    #print(net.activations[0][0])  # Activations of the first layer for the first image\n",
        "    #break  # Remove this break to process the entire dataset\n",
        "len(net.activations[0][0])"
      ],
      "metadata": {
        "colab": {
          "base_uri": "https://localhost:8080/"
        },
        "id": "vvoHwMlYubax",
        "outputId": "8ac317c5-5f6e-4e74-b6b4-ff98b7033455"
      },
      "execution_count": 211,
      "outputs": [
        {
          "output_type": "stream",
          "name": "stderr",
          "text": [
            "<ipython-input-211-bf1e9e2e09f8>:57: UserWarning: Implicit dimension choice for softmax has been deprecated. Change the call to include dim=X as an argument.\n",
            "  x = F.softmax(self.output_layer(x))\n"
          ]
        },
        {
          "output_type": "execute_result",
          "data": {
            "text/plain": [
              "392"
            ]
          },
          "metadata": {},
          "execution_count": 211
        }
      ]
    },
    {
      "cell_type": "code",
      "source": [
        "ave_activation0 = torch.mean(net.activations[0],0)\n",
        "#plt.plot(ave_activation0)\n",
        "zero_neurons_hidden[0] = torch.where(torch.absolute(ave_activation0) <= 0.001)[0]\n",
        "print(zero_neurons_hidden[0])\n",
        "ve_activation1 = torch.mean(net.activations[1],0)\n",
        "#plt.plot(ave_activation0)\n",
        "zero_neurons_hidden[1] = torch.where(torch.absolute(ave_activation1) <= 0.001)[0]\n",
        "print(zero_neurons_hidden[1])\n",
        "ave_activation2 = torch.mean(net.activations[2],0)\n",
        "#plt.plot(ave_activation0)\n",
        "zero_neurons_hidden[2] = torch.where(torch.absolute(ave_activation2) <= 0.001)[0]\n",
        "print(zero_neurons_hidden[2])\n",
        "ave_activation3 = torch.mean(net.activations[3],0)\n",
        "#plt.plot(ave_activation0)\n",
        "zero_neurons_hidden[3] = torch.where(torch.absolute(ave_activation3) <= 0.001)[0]\n",
        "print(zero_neurons_hidden[3])\n",
        "ave_activation4= torch.mean(net.activations[4],0)\n",
        "#plt.plot(ave_activation0)\n",
        "zero_neurons_hidden[4] = torch.where(torch.absolute(ave_activation4) <= 0.001)[0]\n",
        "print(zero_neurons_hidden[4])\n",
        "ave_activation5 = torch.mean(net.activations[5],0)\n",
        "#plt.plot(ave_activation0)\n",
        "zero_neurons_hidden[5] = torch.where(torch.absolute(ave_activation5) <= 0.001)[0]\n",
        "print(zero_neurons_hidden[5])"
      ],
      "metadata": {
        "colab": {
          "base_uri": "https://localhost:8080/"
        },
        "id": "vEXY_9WKvLAz",
        "outputId": "b83675ec-f64d-4581-e872-b2560db48d63"
      },
      "execution_count": 212,
      "outputs": [
        {
          "output_type": "stream",
          "name": "stdout",
          "text": [
            "tensor([ 18,  81, 290, 388])\n",
            "tensor([  7,  10,  31,  88, 129, 140, 141, 149, 159, 166, 173, 178, 183, 185])\n",
            "tensor([ 3, 12, 27, 37, 43, 44, 51, 52, 53, 60, 67, 84, 88, 90, 96, 97])\n",
            "tensor([ 0,  7, 11, 15, 17, 27, 28, 30, 31, 35, 41])\n",
            "tensor([ 4, 11, 17])\n",
            "tensor([0, 1, 2, 3, 4])\n"
          ]
        }
      ]
    },
    {
      "cell_type": "code",
      "source": [
        "emergence = emergence_compute_NN_layers(adj_matrix_G,zero_neurons_hidden,layer_sizes)\n",
        "emergence\n"
      ],
      "metadata": {
        "colab": {
          "base_uri": "https://localhost:8080/"
        },
        "id": "H_ib5ukovPvZ",
        "outputId": "c9946a0b-5738-454b-d4b6-c5cb1dba49e9"
      },
      "execution_count": 204,
      "outputs": [
        {
          "output_type": "execute_result",
          "data": {
            "text/plain": [
              "[23848916, 917252, 12768, 200, 4, 0]"
            ]
          },
          "metadata": {},
          "execution_count": 204
        }
      ]
    },
    {
      "cell_type": "code",
      "source": [
        "# splitted, data[0]\n",
        "[23848916, 917252, 12768, 200, 4, 0]\n",
        "tensor([ 18, 388])\n",
        "tensor([  7,  10,  31,  88, 129, 140, 141, 149, 159, 166, 173, 178, 183, 185])\n",
        "tensor([ 1, 11, 27, 34, 37, 43, 44, 46, 51, 52, 56, 60, 67, 86, 91, 97])\n",
        "tensor([ 1,  7, 17, 20, 28, 36, 40, 41, 44, 45])\n",
        "tensor([ 4,  6, 17, 21])\n",
        "tensor([5, 6, 7, 8, 9])"
      ],
      "metadata": {
        "id": "PDxdkCyOvunw"
      },
      "execution_count": null,
      "outputs": []
    },
    {
      "cell_type": "code",
      "source": [
        "import torch\n",
        "import torch.nn as nn\n",
        "import torch.nn.functional as F\n",
        "from torchvision import datasets, transforms\n",
        "from torch.utils.data import DataLoader\n",
        "\n",
        "file_path = \"\"\n",
        "#data = pickle.load(open(\"/home/chenyang/emergence_ml/FL-code/sync_framework/logs/mnist/seed4321/alpha0.0.fedavg.tc2.sc2.u0.pkl\",\"rb\"))\n",
        "#data = pickle.load(open(\"/content/alpha0.0.fedavg.tc2.sc2.u0.pkl\",\"rb\"))\n",
        "data = pickle.load(open(\"/content/data/weights_no_split.pkl\",\"rb\"))\n",
        "\n",
        "\n",
        "# Step 1: Load the MNIST Dataset\n",
        "transform = transforms.Compose([\n",
        "    transforms.ToTensor(),\n",
        "    transforms.Normalize((0.1307,), (0.3081,))\n",
        "])\n",
        "\n",
        "train_dataset = datasets.MNIST('./data', train=True, download=True, transform=transform)\n",
        "train_loader = DataLoader(train_dataset, batch_size=64, shuffle=True)\n",
        "\n",
        "# Step 2: Define the Neural Network\n",
        "class Net(nn.Module):\n",
        "    def __init__(self):\n",
        "        super(Net, self).__init__()\n",
        "        # Define layers\n",
        "        self.fc1 = nn.Linear(28*28, 392)\n",
        "        self.fc2 = nn.Linear(392, 196)\n",
        "        self.fc3 = nn.Linear(196, 98)\n",
        "        self.fc4 = nn.Linear(98, 48)\n",
        "        self.fc5 = nn.Linear(48, 24)\n",
        "        self.output_layer = torch.nn.Linear(24, 10)\n",
        "        # Add more layers as needed\n",
        "\n",
        "        # Store activations\n",
        "        self.activations = []\n",
        "\n",
        "    def forward(self, x):\n",
        "        x = x.view(-1, 28*28)\n",
        "\n",
        "        # Capture activations\n",
        "        x = F.relu(self.fc1(x))\n",
        "        self.activations.append(x.clone())\n",
        "\n",
        "        x = F.relu(self.fc2(x))\n",
        "        self.activations.append(x.clone())\n",
        "\n",
        "        x = F.relu(self.fc3(x))\n",
        "        self.activations.append(x.clone())\n",
        "\n",
        "        x = F.relu(self.fc4(x))\n",
        "        self.activations.append(x.clone())\n",
        "\n",
        "        x = F.relu(self.fc5(x))\n",
        "        self.activations.append(x.clone())\n",
        "\n",
        "        x = F.softmax(self.output_layer(x))\n",
        "        self.activations.append(x.clone())\n",
        "\n",
        "\n",
        "        # Continue for additional layers\n",
        "        # ...\n",
        "\n",
        "        return x\n",
        "\n",
        "net = Net()\n",
        "\n",
        "# Step 3: Initialize with Your Provided Weights\n",
        "# Example:\n",
        "#your_weight_matrix_for_fc1 =  data[0][\"fc1.weight\"]\n",
        "#net.fc1.weight.data = torch.tensor(your_weight_matrix_for_fc1)\n",
        "net.fc1.weight.data = data[1][\"fc1.weight\"]\n",
        "net.fc1.bias.data = data[1][\"fc1.bias\"]\n",
        "\n",
        "net.fc2.weight.data = data[1][\"fc2.weight\"]\n",
        "net.fc2.bias.data = data[1][\"fc2.bias\"]\n",
        "\n",
        "net.fc3.weight.data = data[1][\"fc3.weight\"]\n",
        "net.fc3.bias.data = data[1][\"fc3.bias\"]\n",
        "\n",
        "net.fc4.weight.data = data[1][\"fc4.weight\"]\n",
        "net.fc4.bias.data = data[1][\"fc4.bias\"]\n",
        "\n",
        "net.fc5.weight.data = data[1][\"fc5.weight\"]\n",
        "net.fc5.bias.data = data[1][\"fc5.bias\"]\n",
        "\n",
        "net.fc5.weight.data = data[1][\"fc5.weight\"]\n",
        "net.fc5.bias.data = data[1][\"fc5.bias\"]\n",
        "\n",
        "net.output_layer.weight.data = data[1][\"classifier.weight\"]\n",
        "net.output_layer.bias.data = data[1][\"classifier.bias\"]\n",
        "\n",
        "# net.fc2.weight.data = torch.tensor(your_weight_matrix_for_fc2)\n",
        "# ... continue for all layers ...\n",
        "\n",
        "# Step 4: Process the MNIST Dataset\n",
        "for Data, target in train_loader:\n",
        "    net.activations = []  # Reset activations\n",
        "    output = net(Data)\n",
        "\n",
        "    # Now net.activations contains the activations for this batch\n",
        "    # Process or save these activations as needed\n",
        "\n",
        "    # Example: Print the activations of the first layer for the first image in the batch\n",
        "    #print(net.activations[0][0])  # Activations of the first layer for the first image\n",
        "    #break  # Remove this break to process the entire dataset\n",
        "len(net.activations[0][0])"
      ],
      "metadata": {
        "colab": {
          "base_uri": "https://localhost:8080/"
        },
        "id": "m9teCUsrwXAu",
        "outputId": "be2074d6-5451-476c-c7c9-e268ffc82f00"
      },
      "execution_count": 257,
      "outputs": [
        {
          "output_type": "stream",
          "name": "stderr",
          "text": [
            "<ipython-input-257-75e8153b967f>:57: UserWarning: Implicit dimension choice for softmax has been deprecated. Change the call to include dim=X as an argument.\n",
            "  x = F.softmax(self.output_layer(x))\n"
          ]
        },
        {
          "output_type": "execute_result",
          "data": {
            "text/plain": [
              "392"
            ]
          },
          "metadata": {},
          "execution_count": 257
        }
      ]
    },
    {
      "cell_type": "code",
      "source": [
        "ave_activation0 = torch.mean(net.activations[0],0)\n",
        "#plt.plot(ave_activation0)\n",
        "zero_neurons_hidden[0] = torch.where(torch.absolute(ave_activation0) <= 0.001)[0]\n",
        "print(zero_neurons_hidden[0])\n",
        "ve_activation1 = torch.mean(net.activations[1],0)\n",
        "#plt.plot(ave_activation0)\n",
        "zero_neurons_hidden[1] = torch.where(torch.absolute(ave_activation1) <= 0.001)[0]\n",
        "print(zero_neurons_hidden[1])\n",
        "ave_activation2 = torch.mean(net.activations[2],0)\n",
        "#plt.plot(ave_activation0)\n",
        "zero_neurons_hidden[2] = torch.where(torch.absolute(ave_activation2) <= 0.001)[0]\n",
        "print(zero_neurons_hidden[2])\n",
        "ave_activation3 = torch.mean(net.activations[3],0)\n",
        "#plt.plot(ave_activation0)\n",
        "zero_neurons_hidden[3] = torch.where(torch.absolute(ave_activation3) <= 0.001)[0]\n",
        "print(zero_neurons_hidden[3])\n",
        "ave_activation4= torch.mean(net.activations[4],0)\n",
        "#plt.plot(ave_activation0)\n",
        "zero_neurons_hidden[4] = torch.where(torch.absolute(ave_activation4) <= 0.001)[0]\n",
        "print(zero_neurons_hidden[4])\n",
        "ave_activation5 = torch.mean(net.activations[5],0)\n",
        "#plt.plot(ave_activation0)\n",
        "zero_neurons_hidden[5] = torch.where(torch.absolute(ave_activation5) <= 0.001)[0]\n",
        "print(zero_neurons_hidden[5])"
      ],
      "metadata": {
        "colab": {
          "base_uri": "https://localhost:8080/"
        },
        "id": "_lltActlwg1F",
        "outputId": "4a58532a-4889-419c-e1ba-7ee3ee8e7aab"
      },
      "execution_count": 206,
      "outputs": [
        {
          "output_type": "stream",
          "name": "stdout",
          "text": [
            "tensor([], dtype=torch.int64)\n",
            "tensor([  7,  10,  31,  88, 129, 140, 141, 149, 159, 166, 173, 178, 183, 185])\n",
            "tensor([ 3, 14, 27, 37, 51, 53, 60, 67, 84, 97])\n",
            "tensor([17, 28, 30, 41])\n",
            "tensor([ 4,  6, 17])\n",
            "tensor([], dtype=torch.int64)\n"
          ]
        }
      ]
    },
    {
      "cell_type": "code",
      "source": [
        "emergence = emergence_compute_NN_layers(adj_matrix_G,zero_neurons_hidden,layer_sizes)\n",
        "emergence\n"
      ],
      "metadata": {
        "colab": {
          "base_uri": "https://localhost:8080/"
        },
        "id": "bfDqMcoKwnHZ",
        "outputId": "b61f1da6-fbf5-4dbd-d84a-d6d9b178a547"
      },
      "execution_count": 207,
      "outputs": [
        {
          "output_type": "execute_result",
          "data": {
            "text/plain": [
              "[0, 1193808, 9680, 84, 3, 0]"
            ]
          },
          "metadata": {},
          "execution_count": 207
        }
      ]
    },
    {
      "cell_type": "code",
      "source": [
        "# splitted, data[1]\n",
        "[23848916, 917252, 12768, 200, 4, 0]\n",
        "tensor([ 18, 168, 290, 388])\n",
        "tensor([  7,  10,  31,  88, 129, 140, 141, 149, 159, 166, 173, 178, 183, 185])\n",
        "tensor([ 3, 11, 12, 14, 27, 37, 43, 44, 51, 52, 60, 67, 84, 86, 88, 90, 96, 97])\n",
        "tensor([ 0,  7, 10, 11, 15, 17, 20, 27, 28, 30, 31, 35, 41])\n",
        "tensor([ 4, 11, 17])\n",
        "tensor([0, 1, 2, 3, 4])"
      ],
      "metadata": {
        "id": "94HO5IJ9wwzi"
      },
      "execution_count": null,
      "outputs": []
    },
    {
      "cell_type": "code",
      "source": [
        "# combined, data[1]\n",
        "[0, 1193808, 9680, 84, 3, 0]\n",
        "tensor([], dtype=torch.int64)\n",
        "tensor([  7,  10,  31,  88, 129, 140, 141, 149, 159, 166, 173, 178, 183, 185])\n",
        "tensor([ 3, 14, 27, 37, 51, 53, 60, 67, 84, 97])\n",
        "tensor([17, 28, 30, 41])\n",
        "tensor([ 4,  6, 17])\n",
        "tensor([], dtype=torch.int64)"
      ],
      "metadata": {
        "id": "hStnT5hzw1tW"
      },
      "execution_count": null,
      "outputs": []
    },
    {
      "cell_type": "code",
      "source": [
        "# splitted, data[0]\n",
        "[23848916, 917252, 12768, 200, 4, 0]\n",
        "tensor([ 18, 388])\n",
        "tensor([  7,  10,  31,  88, 129, 140, 141, 149, 159, 166, 173, 178, 183, 185])\n",
        "tensor([ 1, 11, 27, 34, 37, 43, 44, 46, 51, 52, 56, 60, 67, 86, 91, 97])\n",
        "tensor([ 1,  7, 17, 20, 28, 36, 40, 41, 44, 45])\n",
        "tensor([ 4,  6, 17, 21])\n",
        "tensor([5, 6, 7, 8, 9])"
      ],
      "metadata": {
        "colab": {
          "base_uri": "https://localhost:8080/",
          "height": 250
        },
        "id": "ECahaw0OzhYC",
        "outputId": "5c8da1da-9028-4d7f-f1b8-b07b6d5df5af"
      },
      "execution_count": 208,
      "outputs": [
        {
          "output_type": "error",
          "ename": "NameError",
          "evalue": "ignored",
          "traceback": [
            "\u001b[0;31m---------------------------------------------------------------------------\u001b[0m",
            "\u001b[0;31mNameError\u001b[0m                                 Traceback (most recent call last)",
            "\u001b[0;32m<ipython-input-208-fdf8e9ff56b9>\u001b[0m in \u001b[0;36m<cell line: 3>\u001b[0;34m()\u001b[0m\n\u001b[1;32m      1\u001b[0m \u001b[0;31m# splitted, data[0]\u001b[0m\u001b[0;34m\u001b[0m\u001b[0;34m\u001b[0m\u001b[0m\n\u001b[1;32m      2\u001b[0m \u001b[0;34m[\u001b[0m\u001b[0;36m23848916\u001b[0m\u001b[0;34m,\u001b[0m \u001b[0;36m917252\u001b[0m\u001b[0;34m,\u001b[0m \u001b[0;36m12768\u001b[0m\u001b[0;34m,\u001b[0m \u001b[0;36m200\u001b[0m\u001b[0;34m,\u001b[0m \u001b[0;36m4\u001b[0m\u001b[0;34m,\u001b[0m \u001b[0;36m0\u001b[0m\u001b[0;34m]\u001b[0m\u001b[0;34m\u001b[0m\u001b[0;34m\u001b[0m\u001b[0m\n\u001b[0;32m----> 3\u001b[0;31m \u001b[0mtensor\u001b[0m\u001b[0;34m(\u001b[0m\u001b[0;34m[\u001b[0m \u001b[0;36m18\u001b[0m\u001b[0;34m,\u001b[0m \u001b[0;36m388\u001b[0m\u001b[0;34m]\u001b[0m\u001b[0;34m)\u001b[0m\u001b[0;34m\u001b[0m\u001b[0;34m\u001b[0m\u001b[0m\n\u001b[0m\u001b[1;32m      4\u001b[0m \u001b[0mtensor\u001b[0m\u001b[0;34m(\u001b[0m\u001b[0;34m[\u001b[0m  \u001b[0;36m7\u001b[0m\u001b[0;34m,\u001b[0m  \u001b[0;36m10\u001b[0m\u001b[0;34m,\u001b[0m  \u001b[0;36m31\u001b[0m\u001b[0;34m,\u001b[0m  \u001b[0;36m88\u001b[0m\u001b[0;34m,\u001b[0m \u001b[0;36m129\u001b[0m\u001b[0;34m,\u001b[0m \u001b[0;36m140\u001b[0m\u001b[0;34m,\u001b[0m \u001b[0;36m141\u001b[0m\u001b[0;34m,\u001b[0m \u001b[0;36m149\u001b[0m\u001b[0;34m,\u001b[0m \u001b[0;36m159\u001b[0m\u001b[0;34m,\u001b[0m \u001b[0;36m166\u001b[0m\u001b[0;34m,\u001b[0m \u001b[0;36m173\u001b[0m\u001b[0;34m,\u001b[0m \u001b[0;36m178\u001b[0m\u001b[0;34m,\u001b[0m \u001b[0;36m183\u001b[0m\u001b[0;34m,\u001b[0m \u001b[0;36m185\u001b[0m\u001b[0;34m]\u001b[0m\u001b[0;34m)\u001b[0m\u001b[0;34m\u001b[0m\u001b[0;34m\u001b[0m\u001b[0m\n\u001b[1;32m      5\u001b[0m \u001b[0mtensor\u001b[0m\u001b[0;34m(\u001b[0m\u001b[0;34m[\u001b[0m \u001b[0;36m1\u001b[0m\u001b[0;34m,\u001b[0m \u001b[0;36m11\u001b[0m\u001b[0;34m,\u001b[0m \u001b[0;36m27\u001b[0m\u001b[0;34m,\u001b[0m \u001b[0;36m34\u001b[0m\u001b[0;34m,\u001b[0m \u001b[0;36m37\u001b[0m\u001b[0;34m,\u001b[0m \u001b[0;36m43\u001b[0m\u001b[0;34m,\u001b[0m \u001b[0;36m44\u001b[0m\u001b[0;34m,\u001b[0m \u001b[0;36m46\u001b[0m\u001b[0;34m,\u001b[0m \u001b[0;36m51\u001b[0m\u001b[0;34m,\u001b[0m \u001b[0;36m52\u001b[0m\u001b[0;34m,\u001b[0m \u001b[0;36m56\u001b[0m\u001b[0;34m,\u001b[0m \u001b[0;36m60\u001b[0m\u001b[0;34m,\u001b[0m \u001b[0;36m67\u001b[0m\u001b[0;34m,\u001b[0m \u001b[0;36m86\u001b[0m\u001b[0;34m,\u001b[0m \u001b[0;36m91\u001b[0m\u001b[0;34m,\u001b[0m \u001b[0;36m97\u001b[0m\u001b[0;34m]\u001b[0m\u001b[0;34m)\u001b[0m\u001b[0;34m\u001b[0m\u001b[0;34m\u001b[0m\u001b[0m\n",
            "\u001b[0;31mNameError\u001b[0m: name 'tensor' is not defined"
          ]
        }
      ]
    },
    {
      "cell_type": "code",
      "source": [
        "zero_neurons_hidden"
      ],
      "metadata": {
        "colab": {
          "base_uri": "https://localhost:8080/"
        },
        "id": "evEewu1O2VyY",
        "outputId": "894c089e-c316-4327-bb1d-811bafb1023b"
      },
      "execution_count": 227,
      "outputs": [
        {
          "output_type": "execute_result",
          "data": {
            "text/plain": [
              "[tensor([ 18,  81, 290, 388]),\n",
              " tensor([  7,  10,  31,  88, 129, 140, 141, 149, 159, 166, 173, 178, 183, 185]),\n",
              " tensor([ 3, 12, 27, 37, 43, 44, 51, 52, 53, 60, 67, 84, 88, 90, 96, 97]),\n",
              " tensor([ 0,  7, 11, 15, 17, 27, 28, 30, 31, 35, 41]),\n",
              " tensor([ 4, 11, 17]),\n",
              " tensor([0, 1, 2, 3, 4])]"
            ]
          },
          "metadata": {},
          "execution_count": 227
        }
      ]
    },
    {
      "cell_type": "code",
      "source": [
        "layer_sizes"
      ],
      "metadata": {
        "colab": {
          "base_uri": "https://localhost:8080/"
        },
        "id": "7MczSm4c2q8e",
        "outputId": "29284b3f-d865-45e9-ae84-4c06d091b4fc"
      },
      "execution_count": 229,
      "outputs": [
        {
          "output_type": "execute_result",
          "data": {
            "text/plain": [
              "[392, 196, 98, 48, 24]"
            ]
          },
          "metadata": {},
          "execution_count": 229
        }
      ]
    },
    {
      "cell_type": "code",
      "source": [
        "import torch\n",
        "import torch.nn as nn\n",
        "import torch.nn.functional as F\n",
        "from torchvision import datasets, transforms\n",
        "from torch.utils.data import DataLoader\n",
        "\n",
        "file_path = \"\"\n",
        "#data = pickle.load(open(\"/home/chenyang/emergence_ml/FL-code/sync_framework/logs/mnist/seed4321/alpha0.0.fedavg.tc2.sc2.u0.pkl\",\"rb\"))\n",
        "#data = pickle.load(open(\"/content/alpha0.0.fedavg.tc2.sc2.u0.pkl\",\"rb\"))\n",
        "data = pickle.load(open(\"/content/data/weights_with_split.pkl\",\"rb\"))\n",
        "\n",
        "data_new = data\n",
        "\n",
        "# layer 1\n",
        "len(data_new[1]['fc1.weight'])"
      ],
      "metadata": {
        "colab": {
          "base_uri": "https://localhost:8080/"
        },
        "id": "RlAyN-UI3mQj",
        "outputId": "bd306ac0-c8a6-45f0-a2c1-8138fb3077c9"
      },
      "execution_count": 241,
      "outputs": [
        {
          "output_type": "execute_result",
          "data": {
            "text/plain": [
              "784"
            ]
          },
          "metadata": {},
          "execution_count": 241
        }
      ]
    },
    {
      "cell_type": "code",
      "source": [
        "import torch\n",
        "import torch.nn as nn\n",
        "import torch.nn.functional as F\n",
        "from torchvision import datasets, transforms\n",
        "from torch.utils.data import DataLoader\n",
        "\n",
        "file_path = \"\"\n",
        "#data = pickle.load(open(\"/home/chenyang/emergence_ml/FL-code/sync_framework/logs/mnist/seed4321/alpha0.0.fedavg.tc2.sc2.u0.pkl\",\"rb\"))\n",
        "#data = pickle.load(open(\"/content/alpha0.0.fedavg.tc2.sc2.u0.pkl\",\"rb\"))\n",
        "data = pickle.load(open(\"/content/data/weights_with_split.pkl\",\"rb\"))\n",
        "\n",
        "data_new = data\n",
        "\n",
        "# layer 1\n",
        "for i in range(len(zero_neurons_hidden[0])):\n",
        "    data_new[0]['fc1.weight'][zero_neurons_hidden[0][i],:] =  data[1]['fc1.weight'][zero_neurons_hidden[0][i],:]\n",
        "    data_new[0]['fc1.bias'][zero_neurons_hidden[0][i]] =  data[1]['fc1.bias'][zero_neurons_hidden[0][i]]\n",
        "\n",
        "# layer 2\n",
        "for i in range(len(zero_neurons_hidden[1])):\n",
        "    data_new[0]['fc2.weight'][zero_neurons_hidden[1][i],:] =  data[1]['fc2.weight'][zero_neurons_hidden[1][i],:]\n",
        "    data_new[0]['fc2.bias'][zero_neurons_hidden[1][i]] =  data[1]['fc2.bias'][zero_neurons_hidden[1][i]]\n",
        "\n",
        "# layer 3\n",
        "for i in range(len(zero_neurons_hidden[2])):\n",
        "    data_new[0]['fc3.weight'][zero_neurons_hidden[2][i],:] =  data[1]['fc3.weight'][zero_neurons_hidden[2][i],:]\n",
        "    data_new[0]['fc3.bias'][zero_neurons_hidden[2][i]] =  data[1]['fc3.bias'][zero_neurons_hidden[2][i]]\n",
        "# layer 4\n",
        "for i in range(len(zero_neurons_hidden[3])):\n",
        "    data_new[0]['fc4.weight'][zero_neurons_hidden[3][i],:] =  data[1]['fc4.weight'][zero_neurons_hidden[3][i],:]\n",
        "    data_new[0]['fc4.bias'][zero_neurons_hidden[3][i]] =  data[1]['fc4.bias'][zero_neurons_hidden[3][i]]\n",
        "# layer 5\n",
        "for i in range(len(zero_neurons_hidden[4])):\n",
        "    data_new[0]['fc5.weight'][zero_neurons_hidden[4][i],:] =  data[1]['fc5.weight'][zero_neurons_hidden[4][i],:]\n",
        "    data_new[0]['fc5.bias'][zero_neurons_hidden[4][i]] =  data[1]['fc5.bias'][zero_neurons_hidden[4][i]]\n",
        "\n",
        "# layer 6\n",
        "#data_new[0]['classifier.weight'][0:4,:] =  data[0]['classifier.weight'][0:4,:]\n",
        "data_new[0]['classifier.weight'] =  (data[0]['classifier.weight']+ data[1]['classifier.weight'])/2\n",
        "data_new[0]['classifier.bias'] =  (data[0]['classifier.bias']+ data[1]['classifier.bias'])/2\n",
        "#for i in range(len(zero_neurons_hidden[5])):\n",
        "#    data_new[0]['classifier.weight'][zero_neurons_hidden[5][i],:] =  data[0]['classifier.weight'][zero_neurons_hidden[5][i],:]\n",
        "#    data_new[0]['classifier.bias'][zero_neurons_hidden[5][i]] =  data[0]['classifier.bias'][zero_neurons_hidden[5][i]]"
      ],
      "metadata": {
        "id": "Wt9i-KR4zz1S"
      },
      "execution_count": 339,
      "outputs": []
    },
    {
      "cell_type": "code",
      "source": [
        "import torch\n",
        "import torch.nn as nn\n",
        "import torch.nn.functional as F\n",
        "from torchvision import datasets, transforms\n",
        "from torch.utils.data import DataLoader\n",
        "\n",
        "file_path = \"\"\n",
        "#data = pickle.load(open(\"/home/chenyang/emergence_ml/FL-code/sync_framework/logs/mnist/seed4321/alpha0.0.fedavg.tc2.sc2.u0.pkl\",\"rb\"))\n",
        "#data = pickle.load(open(\"/content/alpha0.0.fedavg.tc2.sc2.u0.pkl\",\"rb\"))\n",
        "data = pickle.load(open(\"/content/data/weights_with_split.pkl\",\"rb\"))\n",
        "\n",
        "data_new = data\n",
        "\n",
        "# layer 1\n",
        "for i in range(len(zero_neurons_hidden[0])):\n",
        "    data_new[1]['fc1.weight'][zero_neurons_hidden[0][i],:] =  data[0]['fc1.weight'][zero_neurons_hidden[0][i],:]\n",
        "    data_new[1]['fc1.bias'][zero_neurons_hidden[0][i]] =  data[0]['fc1.bias'][zero_neurons_hidden[0][i]]\n",
        "\n",
        "# layer 2\n",
        "for i in range(len(zero_neurons_hidden[1])):\n",
        "    data_new[1]['fc2.weight'][zero_neurons_hidden[1][i],:] =  data[0]['fc2.weight'][zero_neurons_hidden[1][i],:]\n",
        "    data_new[1]['fc2.bias'][zero_neurons_hidden[1][i]] =  data[0]['fc2.bias'][zero_neurons_hidden[1][i]]\n",
        "\n",
        "# layer 3\n",
        "for i in range(len(zero_neurons_hidden[2])):\n",
        "    data_new[1]['fc3.weight'][zero_neurons_hidden[2][i],:] =  data[0]['fc3.weight'][zero_neurons_hidden[2][i],:]\n",
        "    data_new[1]['fc3.bias'][zero_neurons_hidden[2][i]] =  data[0]['fc3.bias'][zero_neurons_hidden[2][i]]\n",
        "# layer 4\n",
        "for i in range(len(zero_neurons_hidden[3])):\n",
        "    data_new[1]['fc4.weight'][zero_neurons_hidden[3][i],:] =  data[0]['fc4.weight'][zero_neurons_hidden[3][i],:]\n",
        "    data_new[1]['fc4.bias'][zero_neurons_hidden[3][i]] =  data[0]['fc4.bias'][zero_neurons_hidden[3][i]]\n",
        "# layer 5\n",
        "for i in range(len(zero_neurons_hidden[4])):\n",
        "    data_new[1]['fc5.weight'][zero_neurons_hidden[4][i],:] =  data[0]['fc5.weight'][zero_neurons_hidden[4][i],:]\n",
        "    data_new[1]['fc5.bias'][zero_neurons_hidden[4][i]] =  data[0]['fc5.bias'][zero_neurons_hidden[4][i]]\n",
        "\n",
        "# layer 6\n",
        "#data_new[0]['classifier.weight'][0:4,:] =  data[0]['classifier.weight'][0:4,:]\n",
        "#data_new[1]['classifier.weight'] =  (data[0]['classifier.weight']+ data[1]['classifier.weight'])/2\n",
        "#data_new[1]['classifier.bias'] =  (data[0]['classifier.bias']+ data[1]['classifier.bias'])/2\n",
        "#for i in range(len(zero_neurons_hidden[5])):\n",
        "#    data_new[0]['classifier.weight'][zero_neurons_hidden[5][i],:] =  data[0]['classifier.weight'][zero_neurons_hidden[5][i],:]\n",
        "#    data_new[0]['classifier.bias'][zero_neurons_hidden[5][i]] =  data[0]['classifier.bias'][zero_neurons_hidden[5][i]]"
      ],
      "metadata": {
        "id": "JthKwu7h_r4U"
      },
      "execution_count": 355,
      "outputs": []
    },
    {
      "cell_type": "code",
      "source": [
        "zero_neurons_hidden\n"
      ],
      "metadata": {
        "colab": {
          "base_uri": "https://localhost:8080/"
        },
        "id": "bJ3BhDlD8I7E",
        "outputId": "b13570f8-5d25-4545-ce84-5e71dd209364"
      },
      "execution_count": 352,
      "outputs": [
        {
          "output_type": "execute_result",
          "data": {
            "text/plain": [
              "[tensor([ 11,  14,  18,  24,  33,  36,  38,  40,  42,  51,  54,  75,  81,  83,\n",
              "          88,  95,  99, 122, 156, 168, 180, 198, 204, 220, 221, 228, 238, 264,\n",
              "         266, 281, 287, 289, 290, 294, 297, 300, 327, 328, 331, 352, 356, 367,\n",
              "         371, 373, 388, 389]),\n",
              " tensor([  0,   3,   7,  10,  12,  13,  21,  22,  26,  31,  39,  42,  53,  57,\n",
              "          60,  63,  88,  92,  93,  98, 105, 108, 110, 115, 129, 132, 133, 134,\n",
              "         140, 141, 148, 149, 156, 159, 166, 173, 178, 179, 183, 184, 185, 187,\n",
              "         193]),\n",
              " tensor([ 3, 11, 12, 14, 27, 34, 37, 43, 44, 51, 52, 53, 60, 66, 67, 84, 86, 88,\n",
              "         90, 96, 97]),\n",
              " tensor([ 0,  7, 10, 11, 15, 17, 20, 27, 28, 30, 31, 35, 41]),\n",
              " tensor([ 4, 11, 17, 22]),\n",
              " tensor([0, 1, 2, 3, 4])]"
            ]
          },
          "metadata": {},
          "execution_count": 352
        }
      ]
    },
    {
      "cell_type": "code",
      "source": [
        "import torch\n",
        "import torch.nn as nn\n",
        "import torch.nn.functional as F\n",
        "from torchvision import datasets, transforms\n",
        "from torch.utils.data import DataLoader\n",
        "\n",
        "file_path = \"\"\n",
        "#data = pickle.load(open(\"/home/chenyang/emergence_ml/FL-code/sync_framework/logs/mnist/seed4321/alpha0.0.fedavg.tc2.sc2.u0.pkl\",\"rb\"))\n",
        "#data = pickle.load(open(\"/content/alpha0.0.fedavg.tc2.sc2.u0.pkl\",\"rb\"))\n",
        "data = pickle.load(open(\"/content/data/weights_with_split.pkl\",\"rb\"))\n",
        "\n",
        "\n",
        "# Step 1: Load the MNIST Dataset\n",
        "transform = transforms.Compose([\n",
        "    transforms.ToTensor(),\n",
        "    transforms.Normalize((0.1307,), (0.3081,))\n",
        "])\n",
        "\n",
        "train_dataset = datasets.MNIST('./data', train=True, download=True, transform=transform)\n",
        "train_loader = DataLoader(train_dataset, batch_size=64, shuffle=True)\n",
        "\n",
        "# Step 2: Define the Neural Network\n",
        "class Net(nn.Module):\n",
        "    def __init__(self):\n",
        "        super(Net, self).__init__()\n",
        "        # Define layers\n",
        "        self.fc1 = nn.Linear(28*28, 392)\n",
        "        self.fc2 = nn.Linear(392, 196)\n",
        "        self.fc3 = nn.Linear(196, 98)\n",
        "        self.fc4 = nn.Linear(98, 48)\n",
        "        self.fc5 = nn.Linear(48, 24)\n",
        "        self.output_layer = torch.nn.Linear(24, 10)\n",
        "        # Add more layers as needed\n",
        "\n",
        "        # Store activations\n",
        "        self.activations = []\n",
        "\n",
        "    def forward(self, x):\n",
        "        x = x.view(-1, 28*28)\n",
        "\n",
        "        # Capture activations\n",
        "        x = F.relu(self.fc1(x))\n",
        "        self.activations.append(x.clone())\n",
        "\n",
        "        x = F.relu(self.fc2(x))\n",
        "        self.activations.append(x.clone())\n",
        "\n",
        "        x = F.relu(self.fc3(x))\n",
        "        self.activations.append(x.clone())\n",
        "\n",
        "        x = F.relu(self.fc4(x))\n",
        "        self.activations.append(x.clone())\n",
        "\n",
        "        x = F.relu(self.fc5(x))\n",
        "        self.activations.append(x.clone())\n",
        "\n",
        "        x = F.softmax(self.output_layer(x))\n",
        "        self.activations.append(x.clone())\n",
        "\n",
        "\n",
        "        # Continue for additional layers\n",
        "        # ...\n",
        "\n",
        "        return x\n",
        "\n",
        "net = Net()\n",
        "\n",
        "# Step 3: Initialize with Your Provided Weights\n",
        "# Example:\n",
        "#your_weight_matrix_for_fc1 =  data[0][\"fc1.weight\"]\n",
        "#net.fc1.weight.data = torch.tensor(your_weight_matrix_for_fc1)\n",
        "ind = 1 #the model we take\n",
        "\n",
        "net.fc1.weight.data = data_new[ind][\"fc1.weight\"]\n",
        "net.fc1.bias.data = data_new[ind][\"fc1.bias\"]\n",
        "\n",
        "net.fc2.weight.data = data_new[ind][\"fc2.weight\"]\n",
        "net.fc2.bias.data = data_new[ind][\"fc2.bias\"]\n",
        "\n",
        "net.fc3.weight.data = data_new[ind][\"fc3.weight\"]\n",
        "net.fc3.bias.data = data_new[ind][\"fc3.bias\"]\n",
        "\n",
        "net.fc4.weight.data = data_new[ind][\"fc4.weight\"]\n",
        "net.fc4.bias.data = data_new[ind][\"fc4.bias\"]\n",
        "\n",
        "net.fc5.weight.data = data_new[ind][\"fc5.weight\"]\n",
        "net.fc5.bias.data = data_new[ind][\"fc5.bias\"]\n",
        "\n",
        "net.fc5.weight.data = data_new[ind][\"fc5.weight\"]\n",
        "net.fc5.bias.data = data_new[ind][\"fc5.bias\"]\n",
        "\n",
        "net.output_layer.weight.data = data_new[ind][\"classifier.weight\"]\n",
        "net.output_layer.bias.data = data_new[ind][\"classifier.bias\"]\n",
        "\n",
        "# net.fc2.weight.data = torch.tensor(your_weight_matrix_for_fc2)\n",
        "# ... continue for all layers ...\n",
        "\n"
      ],
      "metadata": {
        "id": "egZJFUQo1P2X"
      },
      "execution_count": 356,
      "outputs": []
    },
    {
      "cell_type": "code",
      "source": [
        "correct = 0\n",
        "total = 0\n",
        "with torch.no_grad():\n",
        "    for data, target in test_loader:\n",
        "        outputs = net(data)\n",
        "        _, predicted = torch.max(outputs.data, 1)\n",
        "        total += target.size(0)\n",
        "        correct += (predicted == target).sum().item()\n",
        "\n",
        "accuracy = 100 * correct / total\n",
        "print(f'Accuracy of the network on the 10000 test images: {accuracy}%')\n"
      ],
      "metadata": {
        "colab": {
          "base_uri": "https://localhost:8080/"
        },
        "id": "i99FgI-h1f3X",
        "outputId": "f9d5b076-5c57-4522-bde9-4ef82dde577a"
      },
      "execution_count": 357,
      "outputs": [
        {
          "output_type": "stream",
          "name": "stderr",
          "text": [
            "<ipython-input-356-119ef5cc1f6c>:57: UserWarning: Implicit dimension choice for softmax has been deprecated. Change the call to include dim=X as an argument.\n",
            "  x = F.softmax(self.output_layer(x))\n"
          ]
        },
        {
          "output_type": "stream",
          "name": "stdout",
          "text": [
            "Accuracy of the network on the 10000 test images: 46.89%\n"
          ]
        }
      ]
    },
    {
      "cell_type": "code",
      "source": [
        "import torch\n",
        "import torch.nn as nn\n",
        "import torch.nn.functional as F\n",
        "from torchvision import datasets, transforms\n",
        "from torch.utils.data import DataLoader\n",
        "\n",
        "file_path = \"\"\n",
        "#data = pickle.load(open(\"/home/chenyang/emergence_ml/FL-code/sync_framework/logs/mnist/seed4321/alpha0.0.fedavg.tc2.sc2.u0.pkl\",\"rb\"))\n",
        "#data = pickle.load(open(\"/content/alpha0.0.fedavg.tc2.sc2.u0.pkl\",\"rb\"))\n",
        "data = pickle.load(open(\"/content/data/weights_with_split.pkl\",\"rb\"))\n",
        "\n",
        "\n",
        "# Step 1: Load the MNIST Dataset\n",
        "transform = transforms.Compose([\n",
        "    transforms.ToTensor()\n",
        "    transforms.Normalize((0.1307,), (0.3081,))\n",
        "])\n",
        "\n",
        "train_dataset = datasets.MNIST('./data', train=True, download=True, transform=transform)\n",
        "train_loader = DataLoader(train_dataset, batch_size=64, shuffle=True)\n",
        "\n",
        "# Step 2: Define the Neural Network\n",
        "class Net(nn.Module):\n",
        "    def __init__(self):\n",
        "        super(Net, self).__init__()\n",
        "        # Define layers\n",
        "        self.fc1 = nn.Linear(28*28, 392)\n",
        "        self.fc2 = nn.Linear(392, 196)\n",
        "        self.fc3 = nn.Linear(196, 98)\n",
        "        self.fc4 = nn.Linear(98, 48)\n",
        "        self.fc5 = nn.Linear(48, 24)\n",
        "        self.output_layer = torch.nn.Linear(24, 10)\n",
        "        # Add more layers as needed\n",
        "\n",
        "        # Store activations\n",
        "        self.activations = []\n",
        "\n",
        "    def forward(self, x):\n",
        "        x = x.view(-1, 28*28)\n",
        "\n",
        "        # Capture activations\n",
        "        x = F.relu(self.fc1(x))\n",
        "        self.activations.append(x.clone())\n",
        "\n",
        "        x = F.relu(self.fc2(x))\n",
        "        self.activations.append(x.clone())\n",
        "\n",
        "        x = F.relu(self.fc3(x))\n",
        "        self.activations.append(x.clone())\n",
        "\n",
        "        x = F.relu(self.fc4(x))\n",
        "        self.activations.append(x.clone())\n",
        "\n",
        "        x = F.relu(self.fc5(x))\n",
        "        self.activations.append(x.clone())\n",
        "\n",
        "        x = F.softmax(self.output_layer(x))\n",
        "        self.activations.append(x.clone())\n",
        "\n",
        "\n",
        "        # Continue for additional layers\n",
        "        # ...\n",
        "\n",
        "        return x\n",
        "\n",
        "net = Net()\n",
        "\n",
        "# Step 3: Initialize with Your Provided Weights\n",
        "# Example:\n",
        "#your_weight_matrix_for_fc1 =  data[0][\"fc1.weight\"]\n",
        "#net.fc1.weight.data = torch.tensor(your_weight_matrix_for_fc1)\n",
        "net.fc1.weight.data = data[1][\"fc1.weight\"]\n",
        "net.fc1.bias.data = data[1][\"fc1.bias\"]\n",
        "\n",
        "net.fc2.weight.data = data[1][\"fc2.weight\"]\n",
        "net.fc2.bias.data = data[1][\"fc2.bias\"]\n",
        "\n",
        "net.fc3.weight.data = data[1][\"fc3.weight\"]\n",
        "net.fc3.bias.data = data[1][\"fc3.bias\"]\n",
        "\n",
        "net.fc4.weight.data = data[1][\"fc4.weight\"]\n",
        "net.fc4.bias.data = data[1][\"fc4.bias\"]\n",
        "\n",
        "net.fc5.weight.data = data[1][\"fc5.weight\"]\n",
        "net.fc5.bias.data = data[1][\"fc5.bias\"]\n",
        "\n",
        "net.fc5.weight.data = data[1][\"fc5.weight\"]\n",
        "net.fc5.bias.data = data[1][\"fc5.bias\"]\n",
        "\n",
        "net.output_layer.weight.data = data[1][\"classifier.weight\"]\n",
        "net.output_layer.bias.data = data[1][\"classifier.bias\"]\n",
        "\n",
        "# net.fc2.weight.data = torch.tensor(your_weight_matrix_for_fc2)\n",
        "# ... continue for all layers ...\n"
      ],
      "metadata": {
        "id": "ECfgmgzC1t5A"
      },
      "execution_count": 255,
      "outputs": []
    },
    {
      "cell_type": "code",
      "source": [
        "correct = 0\n",
        "total = 0\n",
        "with torch.no_grad():\n",
        "    for data, target in test_loader:\n",
        "        outputs = net(data)\n",
        "        _, predicted = torch.max(outputs.data, 1)\n",
        "        total += target.size(0)\n",
        "        correct += (predicted == target).sum().item()\n",
        "\n",
        "accuracy = 100 * correct / total\n",
        "print(f'Accuracy of the network on the 10000 test images: {accuracy}%')\n"
      ],
      "metadata": {
        "colab": {
          "base_uri": "https://localhost:8080/"
        },
        "id": "VCNi1Zvx10C4",
        "outputId": "0c1cbcf4-74b7-40cd-853a-26dadec12d70"
      },
      "execution_count": 222,
      "outputs": [
        {
          "output_type": "stream",
          "name": "stderr",
          "text": [
            "<ipython-input-221-bf1e9e2e09f8>:57: UserWarning: Implicit dimension choice for softmax has been deprecated. Change the call to include dim=X as an argument.\n",
            "  x = F.softmax(self.output_layer(x))\n"
          ]
        },
        {
          "output_type": "stream",
          "name": "stdout",
          "text": [
            "Accuracy of the network on the 10000 test images: 46.93%\n"
          ]
        }
      ]
    },
    {
      "cell_type": "code",
      "source": [
        "\n",
        "\n",
        "thre = 0.1 # threshold\n",
        "ave_activation0 = torch.mean(activations_fix[0],0)\n",
        "#plt.plot(ave_activation0)\n",
        "zero_neurons_hidden[0] = torch.where(torch.absolute(ave_activation0) <= thre)[0]\n",
        "print(len(zero_neurons_hidden[0]))\n",
        "ve_activation1 = torch.mean(activations_fix[1],0)\n",
        "#plt.plot(ave_activation0)\n",
        "zero_neurons_hidden[1] = torch.where(torch.absolute(ave_activation1) <= thre)[0]\n",
        "print(len(zero_neurons_hidden[1]))\n",
        "ave_activation2 = torch.mean(activations_fix[2],0)\n",
        "#plt.plot(ave_activation0)\n",
        "zero_neurons_hidden[2] = torch.where(torch.absolute(ave_activation2) <= thre)[0]\n",
        "print(len(zero_neurons_hidden[2]))\n",
        "ave_activation3 = torch.mean(activations_fix[3],0)\n",
        "#plt.plot(ave_activation0)\n",
        "zero_neurons_hidden[3] = torch.where(torch.absolute(ave_activation3) <= thre)[0]\n",
        "print(len(zero_neurons_hidden[3]))\n",
        "ave_activation4= torch.mean(activations_fix[4],0)\n",
        "#plt.plot(ave_activation0)\n",
        "zero_neurons_hidden[4] = torch.where(torch.absolute(ave_activation4) <= thre)[0]\n",
        "print(len(zero_neurons_hidden[4]))\n",
        "ave_activation5 = torch.mean(activations_fix[5],0)\n",
        "#plt.plot(ave_activation0)\n",
        "zero_neurons_hidden[5] = torch.where(torch.absolute(ave_activation5) <= thre)[0]\n",
        "print(zero_neurons_hidden[5])\n",
        "print(layer_sizes)"
      ],
      "metadata": {
        "colab": {
          "base_uri": "https://localhost:8080/"
        },
        "id": "opCRXLX_5-pR",
        "outputId": "2102a4a4-b765-41a6-9efb-33bb48229d5d"
      },
      "execution_count": 333,
      "outputs": [
        {
          "output_type": "stream",
          "name": "stdout",
          "text": [
            "46\n",
            "43\n",
            "21\n",
            "13\n",
            "4\n",
            "tensor([0, 1, 2, 3, 4])\n",
            "[392, 196, 98, 48, 24]\n"
          ]
        }
      ]
    },
    {
      "cell_type": "code",
      "source": [
        "import torch\n",
        "import torch.nn as nn\n",
        "import torch.nn.functional as F\n",
        "from torchvision import datasets, transforms\n",
        "from torch.utils.data import DataLoader\n",
        "\n",
        "file_path = \"\"\n",
        "#data = pickle.load(open(\"/home/chenyang/emergence_ml/FL-code/sync_framework/logs/mnist/seed4321/alpha0.0.fedavg.tc2.sc2.u0.pkl\",\"rb\"))\n",
        "#data = pickle.load(open(\"/content/alpha0.0.fedavg.tc2.sc2.u0.pkl\",\"rb\"))\n",
        "data = pickle.load(open(\"/content/data/weights_with_split.pkl\",\"rb\"))\n",
        "\n",
        "\n",
        "# Step 1: Load the MNIST Dataset\n",
        "transform = transforms.Compose([\n",
        "    transforms.ToTensor(),\n",
        "    transforms.Normalize((0.1307,), (0.3081,))\n",
        "])\n",
        "\n",
        "train_dataset = datasets.MNIST('./data', train=True, download=True, transform=transform)\n",
        "train_loader = DataLoader(train_dataset, batch_size=64, shuffle=True)\n",
        "\n",
        "# Step 2: Define the Neural Network\n",
        "class Net(nn.Module):\n",
        "    def __init__(self):\n",
        "        super(Net, self).__init__()\n",
        "        # Define layers\n",
        "        self.fc1 = nn.Linear(28*28, 392)\n",
        "        self.fc2 = nn.Linear(392, 196)\n",
        "        self.fc3 = nn.Linear(196, 98)\n",
        "        self.fc4 = nn.Linear(98, 48)\n",
        "        self.fc5 = nn.Linear(48, 24)\n",
        "        self.output_layer = torch.nn.Linear(24, 10)\n",
        "        # Add more layers as needed\n",
        "\n",
        "        # Store activations\n",
        "        self.activations = []\n",
        "\n",
        "    def forward(self, x):\n",
        "        x = x.view(-1, 28*28)\n",
        "\n",
        "        # Capture activations\n",
        "        x = F.relu(self.fc1(x))\n",
        "        self.activations.append(x.clone())\n",
        "\n",
        "        x = F.relu(self.fc2(x))\n",
        "        self.activations.append(x.clone())\n",
        "\n",
        "        x = F.relu(self.fc3(x))\n",
        "        self.activations.append(x.clone())\n",
        "\n",
        "        x = F.relu(self.fc4(x))\n",
        "        self.activations.append(x.clone())\n",
        "\n",
        "        x = F.relu(self.fc5(x))\n",
        "        self.activations.append(x.clone())\n",
        "\n",
        "        x = F.softmax(self.output_layer(x))\n",
        "        self.activations.append(x.clone())\n",
        "\n",
        "\n",
        "        # Continue for additional layers\n",
        "        # ...\n",
        "\n",
        "        return x\n",
        "\n",
        "net = Net()\n",
        "\n",
        "# Step 3: Initialize with Your Provided Weights\n",
        "# Example:\n",
        "#your_weight_matrix_for_fc1 =  data[0][\"fc1.weight\"]\n",
        "#net.fc1.weight.data = torch.tensor(your_weight_matrix_for_fc1)\n",
        "net.fc1.weight.data = data[1][\"fc1.weight\"]\n",
        "net.fc1.bias.data = data[1][\"fc1.bias\"]\n",
        "\n",
        "net.fc2.weight.data = data[1][\"fc2.weight\"]\n",
        "net.fc2.bias.data = data[1][\"fc2.bias\"]\n",
        "\n",
        "net.fc3.weight.data = data[1][\"fc3.weight\"]\n",
        "net.fc3.bias.data = data[1][\"fc3.bias\"]\n",
        "\n",
        "net.fc4.weight.data = data[1][\"fc4.weight\"]\n",
        "net.fc4.bias.data = data[1][\"fc4.bias\"]\n",
        "\n",
        "net.fc5.weight.data = data[1][\"fc5.weight\"]\n",
        "net.fc5.bias.data = data[1][\"fc5.bias\"]\n",
        "\n",
        "net.fc5.weight.data = data[1][\"fc5.weight\"]\n",
        "net.fc5.bias.data = data[1][\"fc5.bias\"]\n",
        "\n",
        "net.output_layer.weight.data = data[1][\"classifier.weight\"]\n",
        "net.output_layer.bias.data = data[1][\"classifier.bias\"]\n",
        "\n",
        "# net.fc2.weight.data = torch.tensor(your_weight_matrix_for_fc2)\n",
        "# ... continue for all layers ...\n",
        "\n",
        "# Step 4: Process the MNIST Dataset\n",
        "for Data, target in train_loader:\n",
        "    net.activations = []  # Reset activations\n",
        "    output = net(Data)\n",
        "\n",
        "    # Now net.activations contains the activations for this batch\n",
        "    # Process or save these activations as needed\n",
        "\n",
        "    # Example: Print the activations of the first layer for the first image in the batch\n",
        "    #print(net.activations[0][0])  # Activations of the first layer for the first image\n",
        "    #break  # Remove this break to process the entire dataset\n",
        "len(net.activations[0][0])"
      ],
      "metadata": {
        "colab": {
          "base_uri": "https://localhost:8080/"
        },
        "id": "3sY537HU9UPr",
        "outputId": "567a76d8-ce8b-4ffe-a8b7-868d88f58694"
      },
      "execution_count": 326,
      "outputs": [
        {
          "output_type": "stream",
          "name": "stderr",
          "text": [
            "<ipython-input-326-bf1e9e2e09f8>:57: UserWarning: Implicit dimension choice for softmax has been deprecated. Change the call to include dim=X as an argument.\n",
            "  x = F.softmax(self.output_layer(x))\n"
          ]
        },
        {
          "output_type": "execute_result",
          "data": {
            "text/plain": [
              "392"
            ]
          },
          "metadata": {},
          "execution_count": 326
        }
      ]
    },
    {
      "cell_type": "code",
      "source": [
        "activations_fix = net.activations"
      ],
      "metadata": {
        "id": "nUixDmE4-L-G"
      },
      "execution_count": 328,
      "outputs": []
    },
    {
      "cell_type": "code",
      "source": [],
      "metadata": {
        "colab": {
          "base_uri": "https://localhost:8080/"
        },
        "id": "uOG9EzB0HLFs",
        "outputId": "11ee989c-3219-4495-992c-dd3124e0b145"
      },
      "execution_count": 354,
      "outputs": [
        {
          "output_type": "execute_result",
          "data": {
            "text/plain": [
              "5"
            ]
          },
          "metadata": {},
          "execution_count": 354
        }
      ]
    }
  ]
}